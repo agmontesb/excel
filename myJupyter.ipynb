{
 "cells": [
  {
   "cell_type": "code",
   "execution_count": 10,
   "metadata": {},
   "outputs": [],
   "source": [
    "import sys\n",
    "import os\n",
    "fname = r'C:\\Users\\agmontesb\\Documents\\GitHub\\excel\\tests\\test_base_workbook.py'\n",
    "sys.path.append(os.path.abspath(os.path.join(os.path.dirname(fname), '..')))"
   ]
  },
  {
   "cell_type": "code",
   "execution_count": 11,
   "metadata": {},
   "outputs": [],
   "source": [
    "import pytest\n",
    "import openpyxl as px\n",
    "import pandas as pd\n",
    "import functools\n",
    "import collections\n",
    "\n",
    "from excel_workbook import (\n",
    "    ExcelWorkbook, ExcelTable, \n",
    "    cell_address, cell_pattern, \n",
    "    data_in_range, tbl_address, rgn_pattern,\n",
    "    XlErrors, TABLE_DATA_MAP\n",
    "    )\n",
    "\n"
   ]
  },
  {
   "cell_type": "code",
   "execution_count": 12,
   "metadata": {},
   "outputs": [],
   "source": [
    "def base_workbook(case):\n",
    "    # Create a base workbook for testing\n",
    "    filename = r\"C:\\Users\\agmontesb\\Downloads\\excel_module_test.xlsx\"\n",
    "    wb = px.load_workbook(filename)\n",
    "\n",
    "    excel_wb = ExcelWorkbook('excel_module_test')\n",
    "\n",
    "    ws_name = \"No links, No parameters\"\n",
    "    ws = wb[ws_name]\n",
    "    wsheet = excel_wb.create_worksheet(ws_name)\n",
    "\n",
    "    # Tabla 1\n",
    "    ws_range = [\"G4:I9\", \"F3:I9\"][case]\n",
    "    fmls, values = data_in_range(ws, ws_range)\n",
    "    sh1_tbl1 = ExcelTable(wsheet, 'sh1_tbl1', ws_range, fmls, values, recalc=True)\n",
    "    # m_sh1_tbl1 = sh1_tbl1.minimun_table()\n",
    "\n",
    "    # Tabla 2\n",
    "    ws_range = [\"G11:H15\", \"F12:H15\"][case]\n",
    "    fmls, values = data_in_range(ws, ws_range)\n",
    "    sh1_tbl2 = ExcelTable(wsheet, 'sh1_tbl2', ws_range, fmls, values, recalc=True)\n",
    "    m_sh1_tbl2 = sh1_tbl2.minimun_table()\n",
    "\n",
    "    ws_name = \"Parameters and inner links\"\n",
    "    ws = wb[ws_name]\n",
    "    wsheet = excel_wb.create_worksheet(ws_name)\n",
    "\n",
    "    # Tabla 1\n",
    "    ws_range = [\"F4:H9\", \"E3:H9\"][case]\n",
    "    fmls, values = data_in_range(ws, ws_range)\n",
    "    sh2_tbl1 = ExcelTable(wsheet, 'sh2_tbl1', ws_range, fmls, values, recalc=True)\n",
    "    # m_sh2_tbl1 = sh2_tbl1.minimun_table()\n",
    "\n",
    "    # Tabla 2\n",
    "    ws_range = [\"F13:H17\", \"E12:H17\"][case]\n",
    "    fmls, values = data_in_range(ws, ws_range)\n",
    "    sh2_tbl2 = ExcelTable(wsheet, 'sh2_tbl2', ws_range, fmls, values, recalc=True)\n",
    "    # m_sh2_tbl2 = sh2_tbl2.minimun_table()\n",
    "\n",
    "    ws_name = \"Outer links, outer parameter\"\n",
    "    ws = wb[ws_name]\n",
    "    wsheet = excel_wb.create_worksheet(ws_name)\n",
    "\n",
    "    # Tabla 1\n",
    "    ws_range = [\"F3:H8\", \"E2:H8\"][case]\n",
    "    fmls, values = data_in_range(ws, ws_range)\n",
    "    sh3_tbl1 = ExcelTable(wsheet, 'sh3_tbl1', ws_range, fmls, values, recalc=True)\n",
    "    # m_sh3_tbl1 = sh3_tbl1.minimun_table()\n",
    "\n",
    "    wb.close()\n",
    "    return excel_wb\n"
   ]
  },
  {
   "cell_type": "code",
   "execution_count": 13,
   "metadata": {},
   "outputs": [
    {
     "name": "stderr",
     "output_type": "stream",
     "text": [
      "c:\\Users\\agmontesb\\Documents\\GitHub\\excel\\excel_workbook.py:1384: FutureWarning: Downcasting object dtype arrays on .fillna, .ffill, .bfill is deprecated and will change in a future version. Call result.infer_objects(copy=False) instead. To opt-in to the future behavior, set `pd.set_option('future.no_silent_downcasting', True)`\n",
      "  df = self[excel_slice].fillna(0)\n"
     ]
    }
   ],
   "source": [
    "wb = base_workbook(1)"
   ]
  },
  {
   "cell_type": "code",
   "execution_count": 17,
   "metadata": {},
   "outputs": [
    {
     "data": {
      "text/html": [
       "<div>\n",
       "<style scoped>\n",
       "    .dataframe tbody tr th:only-of-type {\n",
       "        vertical-align: middle;\n",
       "    }\n",
       "\n",
       "    .dataframe tbody tr th {\n",
       "        vertical-align: top;\n",
       "    }\n",
       "\n",
       "    .dataframe thead th {\n",
       "        text-align: right;\n",
       "    }\n",
       "</style>\n",
       "<table border=\"1\" class=\"dataframe\">\n",
       "  <thead>\n",
       "    <tr style=\"text-align: right;\">\n",
       "      <th>col</th>\n",
       "      <th>E</th>\n",
       "      <th>F</th>\n",
       "      <th>G</th>\n",
       "    </tr>\n",
       "    <tr>\n",
       "      <th>row</th>\n",
       "      <th></th>\n",
       "      <th></th>\n",
       "      <th></th>\n",
       "    </tr>\n",
       "  </thead>\n",
       "  <tbody>\n",
       "    <tr>\n",
       "      <th>2</th>\n",
       "      <td></td>\n",
       "      <td></td>\n",
       "      <td>0</td>\n",
       "    </tr>\n",
       "    <tr>\n",
       "      <th>3</th>\n",
       "      <td>tabla 1:</td>\n",
       "      <td></td>\n",
       "      <td></td>\n",
       "    </tr>\n",
       "    <tr>\n",
       "      <th>4</th>\n",
       "      <td>l1</td>\n",
       "      <td>250</td>\n",
       "      <td>#REF!</td>\n",
       "    </tr>\n",
       "    <tr>\n",
       "      <th>5</th>\n",
       "      <td>l2</td>\n",
       "      <td>230</td>\n",
       "      <td>#REF!</td>\n",
       "    </tr>\n",
       "    <tr>\n",
       "      <th>6</th>\n",
       "      <td>l3</td>\n",
       "      <td>100</td>\n",
       "      <td>#REF!</td>\n",
       "    </tr>\n",
       "    <tr>\n",
       "      <th>7</th>\n",
       "      <td>l4</td>\n",
       "      <td>85</td>\n",
       "      <td>#REF!</td>\n",
       "    </tr>\n",
       "    <tr>\n",
       "      <th>8</th>\n",
       "      <td>l5</td>\n",
       "      <td>18</td>\n",
       "      <td>#REF!</td>\n",
       "    </tr>\n",
       "    <tr>\n",
       "      <th>9</th>\n",
       "      <td></td>\n",
       "      <td>683</td>\n",
       "      <td>#REF!</td>\n",
       "    </tr>\n",
       "    <tr>\n",
       "      <th>10</th>\n",
       "      <td></td>\n",
       "      <td></td>\n",
       "      <td></td>\n",
       "    </tr>\n",
       "    <tr>\n",
       "      <th>11</th>\n",
       "      <td></td>\n",
       "      <td></td>\n",
       "      <td></td>\n",
       "    </tr>\n",
       "    <tr>\n",
       "      <th>12</th>\n",
       "      <td>tabla2:</td>\n",
       "      <td></td>\n",
       "      <td></td>\n",
       "    </tr>\n",
       "    <tr>\n",
       "      <th>13</th>\n",
       "      <td>l1</td>\n",
       "      <td>100</td>\n",
       "      <td>#REF!</td>\n",
       "    </tr>\n",
       "    <tr>\n",
       "      <th>14</th>\n",
       "      <td>l2</td>\n",
       "      <td>25</td>\n",
       "      <td>25</td>\n",
       "    </tr>\n",
       "    <tr>\n",
       "      <th>15</th>\n",
       "      <td>l3</td>\n",
       "      <td>38</td>\n",
       "      <td>38</td>\n",
       "    </tr>\n",
       "    <tr>\n",
       "      <th>16</th>\n",
       "      <td>l4</td>\n",
       "      <td>#REF!</td>\n",
       "      <td>#REF!</td>\n",
       "    </tr>\n",
       "    <tr>\n",
       "      <th>17</th>\n",
       "      <td></td>\n",
       "      <td>#REF!</td>\n",
       "      <td>#REF!</td>\n",
       "    </tr>\n",
       "  </tbody>\n",
       "</table>\n",
       "</div>"
      ],
      "text/plain": [
       "<excel_workbook.ExcelWorksheet at 0x1b0d56032b0>"
      ]
     },
     "execution_count": 17,
     "metadata": {},
     "output_type": "execute_result"
    }
   ],
   "source": [
    "wb.sheets[1]"
   ]
  },
  {
   "cell_type": "code",
   "execution_count": 15,
   "metadata": {},
   "outputs": [],
   "source": [
    "ws = wb.sheets[1]\n",
    "tbl = ws.tables[0]"
   ]
  },
  {
   "cell_type": "code",
   "execution_count": 16,
   "metadata": {},
   "outputs": [],
   "source": [
    "ws.delete('F')"
   ]
  },
  {
   "cell_type": "code",
   "execution_count": 8,
   "metadata": {},
   "outputs": [],
   "source": [
    "tbl['G7'] = 40\n",
    "tbl.recalculate(recalc=True)"
   ]
  },
  {
   "cell_type": "code",
   "execution_count": null,
   "metadata": {},
   "outputs": [],
   "source": []
  },
  {
   "cell_type": "code",
   "execution_count": null,
   "metadata": {},
   "outputs": [],
   "source": []
  }
 ],
 "metadata": {
  "kernelspec": {
   "display_name": "excel-vZ5sKczD-py3.10",
   "language": "python",
   "name": "python3"
  },
  "language_info": {
   "codemirror_mode": {
    "name": "ipython",
    "version": 3
   },
   "file_extension": ".py",
   "mimetype": "text/x-python",
   "name": "python",
   "nbconvert_exporter": "python",
   "pygments_lexer": "ipython3",
   "version": "3.10.11"
  }
 },
 "nbformat": 4,
 "nbformat_minor": 2
}
