{
 "cells": [
  {
   "cell_type": "code",
   "execution_count": 1,
   "metadata": {},
   "outputs": [],
   "source": [
    "import sys\n",
    "import os\n",
    "fname = r'C:\\Users\\agmontesb\\Documents\\GitHub\\excel\\tests\\test_base_workbook.py'\n",
    "sys.path.append(os.path.abspath(os.path.join(os.path.dirname(fname), '..')))\n",
    "sys.path.append(os.path.abspath(os.path.join(os.path.dirname(fname), r'..\\tests')))"
   ]
  },
  {
   "cell_type": "code",
   "execution_count": 2,
   "metadata": {},
   "outputs": [],
   "source": [
    "import pytest\n",
    "import openpyxl as px\n",
    "import pandas as pd\n",
    "import itertools\n",
    "import re\n",
    "import inspect\n",
    "from typing import Any, Literal, Optional"
   ]
  },
  {
   "cell_type": "code",
   "execution_count": 3,
   "metadata": {},
   "outputs": [],
   "source": [
    "\n",
    "from excel_workbook import (\n",
    "    ExcelWorkbook, ExcelTable, \n",
    "    cell_address, cell_pattern, \n",
    "    tbl_address, rgn_pattern,\n",
    "    XlErrors, TABLE_DATA_MAP, EMPTY_CELL, CIRCULAR_REF,\n",
    "    tbl_pattern, rgn_pattern, flatten_sets\n",
    "    )\n",
    "\n",
    "from tests.utilities import TableComparator\n"
   ]
  },
  {
   "cell_type": "code",
   "execution_count": 4,
   "metadata": {},
   "outputs": [],
   "source": [
    "from tests.fixtures import static_workbook as base_workbook"
   ]
  },
  {
   "cell_type": "code",
   "execution_count": 5,
   "metadata": {},
   "outputs": [],
   "source": [
    "wb = inspect.unwrap(base_workbook)()\n",
    "ws = wb.sheets[1]\n",
    "tbl = ws.tables[1]\n",
    "df = tbl.data"
   ]
  },
  {
   "cell_type": "code",
   "execution_count": 6,
   "metadata": {},
   "outputs": [
    {
     "data": {
      "text/plain": [
       "['=+$G$2*F13',\n",
       " '=+F14+G14',\n",
       " '=+SUM(F15:G15)',\n",
       " '=+SUM(F16:G16)',\n",
       " '=+H16+H15+H14']"
      ]
     },
     "execution_count": 6,
     "metadata": {},
     "output_type": "execute_result"
    }
   ],
   "source": [
    "fmls = \"\"\"=+$G$2*F13\n",
    "=+F14+G14\n",
    "=+SUM(F15:G15)\n",
    "=+SUM(F16:G16)\n",
    "=+H16+H15+H14\"\"\".split('\\n')\n",
    "fmls"
   ]
  },
  {
   "cell_type": "code",
   "execution_count": 7,
   "metadata": {},
   "outputs": [
    {
     "data": {
      "text/plain": [
       "['H13', 'H14', 'H15', 'H16', 'H17']"
      ]
     },
     "execution_count": 7,
     "metadata": {},
     "output_type": "execute_result"
    }
   ],
   "source": [
    "cells = '''$H$13\n",
    "$H$14\n",
    "$H$15\n",
    "$H$16\n",
    "$H$17\n",
    "'''.replace('$', '').splitlines()\n",
    "cells"
   ]
  },
  {
   "cell_type": "code",
   "execution_count": 8,
   "metadata": {},
   "outputs": [
    {
     "data": {
      "text/plain": [
       "['F13', 'F14', 'F15', 'F16', 'F17']"
      ]
     },
     "execution_count": 8,
     "metadata": {},
     "output_type": "execute_result"
    }
   ],
   "source": [
    "cell_to_delete = 'F'\n",
    "changes = [f'{cell_to_delete}{i}' for i in range(13, 18)]\n",
    "changes"
   ]
  },
  {
   "cell_type": "code",
   "execution_count": 9,
   "metadata": {},
   "outputs": [],
   "source": [
    "err_ref_cell = \"'Hoja de Trabajo'!Z0\""
   ]
  },
  {
   "cell_type": "code",
   "execution_count": 10,
   "metadata": {},
   "outputs": [],
   "source": [
    "def pass_anchors(coord1, coord2):\n",
    "    return coord2\n"
   ]
  },
  {
   "cell_type": "code",
   "execution_count": 68,
   "metadata": {},
   "outputs": [],
   "source": [
    "def shrink_range(linf, lsup, changes, del_what):\n",
    "    bflag = del_what == 'col'\n",
    "    k1, k2, fnc, gnc = (2, 3, ord, chr) if bflag else (3, 2, int, str)\n",
    "    ucol = cell_pattern.match(lsup).group(k1)\n",
    "    lx_row = cell_pattern.match(changes[0]).group(k2)\n",
    "    row_changes = [\n",
    "        tpl[k1 - 1] for x in changes \n",
    "        if (tpl := cell_pattern.match(x).groups()) and tpl[k2 - 1] == lx_row and tpl[k1 - 1] <= ucol\n",
    "    ]\n",
    "    if not row_changes:\n",
    "        return linf, lsup\n",
    "    min_col = fnc(row_changes[0]) if linf in changes else (fnc(row_changes[0]) - 1)\n",
    "    n = len(row_changes)\n",
    "    answ = [linf]\n",
    "    for x in (linf, lsup)[1 - int(linf in changes):]:\n",
    "        tpl = list(cell_pattern.match(x).groups())\n",
    "        tpl[2 - int(bflag)] = gnc(max(min_col, (fnc(tpl[2 - int(bflag)]) - n)))\n",
    "        sht, col, row = tpl\n",
    "        x = f\"'{sht}'!{col}{row}\" if sht else f\"{col}{row}\"\n",
    "        answ.append(x)\n",
    "\n",
    "    return answ[-2:]\n"
   ]
  },
  {
   "cell_type": "code",
   "execution_count": 72,
   "metadata": {},
   "outputs": [],
   "source": [
    "del_action = 'col'\n",
    "pattern = rgn_pattern\n",
    "def replacement(m):\n",
    "    if ':' in m[0]:\n",
    "        m = tbl_pattern.match(m[0])\n",
    "        prefix = f\"'{m[1]}'!\" if m[1] else ''\n",
    "        linf, lsup = map(lambda x: f\"{prefix}{x}\", m[0].replace('$', '').split(':'))\n",
    "        if err_ref_cell and all(x in changes for x in (linf, lsup)):\n",
    "            return err_ref_cell\n",
    "        linf, lsup = shrink_range(linf, lsup, changes, del_action)\n",
    "        lsup = lsup.split('!')[-1]\n",
    "        linf, lsup = map(lambda tpl: pass_anchors(*tpl), zip(m[0].split(':'), (linf, lsup)))\n",
    "        sub_str = ':'.join([linf, lsup])\n",
    "        return sub_str\n",
    "    key = m[0].replace('$', '')\n",
    "    return (err_ref_cell or pass_anchors(m[0], changes[key])) if key in changes else m[0]\n"
   ]
  },
  {
   "cell_type": "code",
   "execution_count": 32,
   "metadata": {},
   "outputs": [
    {
     "data": {
      "text/plain": [
       "['A13',\n",
       " 'A14',\n",
       " 'A15',\n",
       " 'A16',\n",
       " 'A17',\n",
       " 'B13',\n",
       " 'B14',\n",
       " 'B15',\n",
       " 'B16',\n",
       " 'B17',\n",
       " 'C13',\n",
       " 'C14',\n",
       " 'C15',\n",
       " 'C16',\n",
       " 'C17']"
      ]
     },
     "execution_count": 32,
     "metadata": {},
     "output_type": "execute_result"
    }
   ],
   "source": [
    "scase = ['ABC', 'EFG', 'CDEF'][0]\n",
    "changes = [f'{col}{row}' for col in scase for row in range(13, 18)]\n",
    "changes"
   ]
  },
  {
   "cell_type": "code",
   "execution_count": 69,
   "metadata": {},
   "outputs": [
    {
     "data": {
      "text/plain": [
       "['F15', 'F15']"
      ]
     },
     "execution_count": 69,
     "metadata": {},
     "output_type": "execute_result"
    }
   ],
   "source": [
    "shrink_range('F15', 'G15', [f'G{x}' for x in range(13, 18)], 'col')"
   ]
  },
  {
   "cell_type": "code",
   "execution_count": 70,
   "metadata": {},
   "outputs": [],
   "source": [
    "def test_del_cases(scase, ncase, del_action):\n",
    "        if del_action == 'col':\n",
    "                changes = [f'{col}{row}' for col in scase for row in range(13, 18)]\n",
    "        else:\n",
    "                changes = [f'{chr(col)}{row}' for col in range(ord('A'), ord('H') + 1) for row in scase]\n",
    "        fml = fmls[ncase]\n",
    "        linf, lsup = rgn_pattern.search(fml)[0].split(':')\n",
    "        l_answ, r_answ = shrink_range(linf, lsup, changes, del_action)\n",
    "        return fml, (linf, lsup), (l_answ, r_answ)"
   ]
  },
  {
   "cell_type": "code",
   "execution_count": 71,
   "metadata": {},
   "outputs": [
    {
     "name": "stdout",
     "output_type": "stream",
     "text": [
      "=+SUM(A13:A17) ('A13', 'A17')\n",
      "('A13', 'A14') ('left', 'right')\n"
     ]
    }
   ],
   "source": [
    "scase, ncase, del_action = range(15, 20), 0, 'row'\n",
    "if del_action == 'col':\n",
    "    answ = locals().get(f'del_{scase}').splitlines()[ncase]\n",
    "    left, right = rgn_pattern.search(answ)[0].split(':')\n",
    "else:\n",
    "    fmls = '''=+SUM(A13:A17)\t=+SUM(B13:B17)\t=+SUM(C13:C17)\t=+SUM(D13:D17)\t=+SUM(E13:E17)\t=+SUM(F13:F17)\t=+SUM(G13:G17)'''.split('\\t')\n",
    "fml, tpl1, tpl2 = test_del_cases(scase, ncase, del_action)\n",
    "print(fml, tpl1)\n",
    "# print(tpl2, (left, right))\n",
    "print(tpl2, ('left', 'right'))"
   ]
  },
  {
   "cell_type": "code",
   "execution_count": 58,
   "metadata": {},
   "outputs": [],
   "source": [
    "del_action = 'col'\n",
    "\n",
    "for scase in ['ABC', 'EFG', 'CDEF']:\n",
    "    for ncase in range(5):\n",
    "        answ = locals().get(f'del_{scase}').splitlines()[ncase]\n",
    "        left, right = rgn_pattern.search(answ)[0].split(':')\n",
    "        fml, (linf, lsup), (l_answ, r_answ) = test_del_cases(scase, ncase, del_action)\n",
    "\n",
    "        if not all(x == y for x, y in zip((left, right), (l_answ, r_answ))):\n",
    "            print(f'*** {scase=}, {ncase=}')\n",
    "            print(f'    {fml=}, {linf=}, {lsup=}, {left=}, {right=}')\n",
    "            print(f'    ({l_answ=}, {l_answ == left}), ({r_answ=}, {r_answ == right})')"
   ]
  },
  {
   "cell_type": "code",
   "execution_count": null,
   "metadata": {},
   "outputs": [],
   "source": []
  },
  {
   "cell_type": "code",
   "execution_count": 37,
   "metadata": {},
   "outputs": [
    {
     "data": {
      "text/plain": [
       "['=+SUM(A13:G13)',\n",
       " '=+SUM(C14:G14)',\n",
       " '=+SUM(A15:E15)',\n",
       " '=+SUM(A16:D16)',\n",
       " '=+SUM(A13:G17)']"
      ]
     },
     "execution_count": 37,
     "metadata": {},
     "output_type": "execute_result"
    }
   ],
   "source": [
    "fmls = base.split('\\n')\n",
    "fmls"
   ]
  },
  {
   "cell_type": "code",
   "execution_count": 58,
   "metadata": {},
   "outputs": [
    {
     "data": {
      "text/html": [
       "<div>\n",
       "<style scoped>\n",
       "    .dataframe tbody tr th:only-of-type {\n",
       "        vertical-align: middle;\n",
       "    }\n",
       "\n",
       "    .dataframe tbody tr th {\n",
       "        vertical-align: top;\n",
       "    }\n",
       "\n",
       "    .dataframe thead th {\n",
       "        text-align: right;\n",
       "    }\n",
       "</style>\n",
       "<table border=\"1\" class=\"dataframe\">\n",
       "  <thead>\n",
       "    <tr style=\"text-align: right;\">\n",
       "      <th></th>\n",
       "      <th>fml</th>\n",
       "    </tr>\n",
       "    <tr>\n",
       "      <th>cell</th>\n",
       "      <th></th>\n",
       "    </tr>\n",
       "  </thead>\n",
       "  <tbody>\n",
       "    <tr>\n",
       "      <th>H13</th>\n",
       "      <td>=+SUM(A13:G13)</td>\n",
       "    </tr>\n",
       "    <tr>\n",
       "      <th>H14</th>\n",
       "      <td>=+SUM(C14:G14)</td>\n",
       "    </tr>\n",
       "    <tr>\n",
       "      <th>H15</th>\n",
       "      <td>=+SUM(A15:E15)</td>\n",
       "    </tr>\n",
       "    <tr>\n",
       "      <th>H16</th>\n",
       "      <td>=+SUM(A16:D16)</td>\n",
       "    </tr>\n",
       "    <tr>\n",
       "      <th>H17</th>\n",
       "      <td>=+SUM(A13:G17)</td>\n",
       "    </tr>\n",
       "  </tbody>\n",
       "</table>\n",
       "</div>"
      ],
      "text/plain": [
       "                 fml\n",
       "cell                \n",
       "H13   =+SUM(A13:G13)\n",
       "H14   =+SUM(C14:G14)\n",
       "H15   =+SUM(A15:E15)\n",
       "H16   =+SUM(A16:D16)\n",
       "H17   =+SUM(A13:G17)"
      ]
     },
     "execution_count": 58,
     "metadata": {},
     "output_type": "execute_result"
    }
   ],
   "source": [
    "df = pd.DataFrame(fmls, columns=['fml'], index=pd.Index(cells, name='cell'))\n",
    "df"
   ]
  },
  {
   "cell_type": "code",
   "execution_count": null,
   "metadata": {},
   "outputs": [],
   "source": [
    "\n",
    "df.fml.str.replace(\n",
    "    pattern,\n",
    "    replacement,\n",
    "    regex=True\n",
    ")            \n"
   ]
  },
  {
   "cell_type": "code",
   "execution_count": 3,
   "metadata": {},
   "outputs": [
    {
     "data": {
      "text/plain": [
       "['B', 'C', 'A']"
      ]
     },
     "execution_count": 3,
     "metadata": {},
     "output_type": "execute_result"
    }
   ],
   "source": [
    "import collections\n",
    "list(collections.Counter(['B', 'C', 'B', 'C', 'A']).keys())"
   ]
  },
  {
   "cell_type": "code",
   "execution_count": 24,
   "metadata": {},
   "outputs": [],
   "source": [
    "base = '''=+SUM(A13:G13)\n",
    "=+SUM(C14:G14)\n",
    "=+SUM(A15:E15)\n",
    "=+SUM(A16:D16)\n",
    "=+SUM(A13:G17)'''\n"
   ]
  },
  {
   "cell_type": "code",
   "execution_count": 25,
   "metadata": {},
   "outputs": [],
   "source": [
    "del_ABC = '''=+SUM(A13:D13)\n",
    "=+SUM(A14:D14)\n",
    "=+SUM(A15:B15)\n",
    "=+SUM(A16:A16)\n",
    "=+SUM(A13:D17)'''"
   ]
  },
  {
   "cell_type": "code",
   "execution_count": 26,
   "metadata": {},
   "outputs": [],
   "source": [
    "del_EFG = '''=+SUM(A13:D13)\n",
    "=+SUM(C14:D14)\n",
    "=+SUM(A15:D15)\n",
    "=+SUM(A16:D16)\n",
    "=+SUM(A13:D17)'''"
   ]
  },
  {
   "cell_type": "code",
   "execution_count": 27,
   "metadata": {},
   "outputs": [],
   "source": [
    "del_CDEF = '''=+SUM(A13:C13)\n",
    "=+SUM(C14:C14)\n",
    "=+SUM(A15:B15)\n",
    "=+SUM(A16:B16)\n",
    "=+SUM(A13:C17)'''"
   ]
  },
  {
   "cell_type": "code",
   "execution_count": null,
   "metadata": {},
   "outputs": [],
   "source": []
  },
  {
   "cell_type": "code",
   "execution_count": 6,
   "metadata": {},
   "outputs": [
    {
     "data": {
      "text/plain": [
       "(1, [2, 3, 4])"
      ]
     },
     "execution_count": 6,
     "metadata": {},
     "output_type": "execute_result"
    }
   ],
   "source": [
    "a, *b = (1,) + (2,3,4)\n",
    "a, b"
   ]
  },
  {
   "cell_type": "code",
   "execution_count": 7,
   "metadata": {},
   "outputs": [
    {
     "name": "stdout",
     "output_type": "stream",
     "text": [
      "-57\n",
      "..-58\n",
      "..-59\n",
      "..-60\n",
      "..-61\n",
      "..\n",
      "Counter reached zero!\n",
      "[]\n"
     ]
    },
    {
     "name": "stdout",
     "output_type": "stream",
     "text": [
      "-62\n",
      ".-63\n",
      ".-64\n",
      ".-65\n",
      ".-66\n",
      ".-67\n",
      ".-68\n",
      ".-69\n",
      ".-70\n",
      ".-71\n",
      ".-72\n",
      ".-73\n",
      ".-74\n",
      ".-75\n",
      ".-76\n",
      "."
     ]
    }
   ],
   "source": [
    "import threading\n",
    "import time\n",
    "from threading import Condition\n",
    "\n",
    "def get_clipboard_content():\n",
    "    import tkinter as tk\n",
    "\n",
    "    root = tk.Tk()\n",
    "    root.withdraw()\n",
    "    clp_content = root.clipboard_get()\n",
    "    root.clipboard_clear()\n",
    "    return clp_content\n",
    "\n",
    "class CounterThread(threading.Thread):\n",
    "    def __init__(self, counter, condition):\n",
    "        super().__init__()\n",
    "        self.counter = counter\n",
    "        self.condition = condition\n",
    "        self.content = []\n",
    "\n",
    "    def run(self):\n",
    "        while True:\n",
    "            if self.condition.counter > 0:\n",
    "                # print(f\"Counter: {self.condition.counter}\")\n",
    "                time.sleep(2)  # Simulate work\n",
    "                try:\n",
    "                    clp_content = get_clipboard_content()\n",
    "                    self.content.append(clp_content)\n",
    "                    dot = 'C'\n",
    "                except Exception as e:\n",
    "                    # print(self.counter)\n",
    "                    self.counter -= 1\n",
    "                    print('.', end='', flush=True)\n",
    "                    n = 0\n",
    "                    if self.counter == 0:\n",
    "                        self.condition.counter = 0\n",
    "                else:\n",
    "                    n = 1\n",
    "                    print('C', end='', flush=True)\n",
    "                finally:\n",
    "                    with self.condition:\n",
    "                        self.condition.counter -= n\n",
    "                        self.condition.notify()  # Notify the waiting thread\n",
    "            else:\n",
    "                break\n",
    "\n",
    "def wait_for_counter(condition):\n",
    "    with condition:\n",
    "        while True:\n",
    "            if condition.wait_for(lambda: condition.counter == 0):\n",
    "                print(\"\\nCounter reached zero!\")\n",
    "                break\n",
    "\n",
    "# Example usage:\n",
    "condition = Condition()\n",
    "condition.counter = 3  # Initialize the counter\n",
    "\n",
    "counter_thread = CounterThread(5, condition)\n",
    "counter_thread.start()\n",
    "\n",
    "wait_for_counter(condition)\n",
    "print(counter_thread.content)"
   ]
  },
  {
   "cell_type": "code",
   "execution_count": null,
   "metadata": {},
   "outputs": [],
   "source": []
  }
 ],
 "metadata": {
  "kernelspec": {
   "display_name": "excel-vZ5sKczD-py3.10",
   "language": "python",
   "name": "python3"
  },
  "language_info": {
   "codemirror_mode": {
    "name": "ipython",
    "version": 3
   },
   "file_extension": ".py",
   "mimetype": "text/x-python",
   "name": "python",
   "nbconvert_exporter": "python",
   "pygments_lexer": "ipython3",
   "version": "3.10.11"
  }
 },
 "nbformat": 4,
 "nbformat_minor": 2
}
