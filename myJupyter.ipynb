{
 "cells": [
  {
   "cell_type": "code",
   "execution_count": 1,
   "metadata": {},
   "outputs": [],
   "source": [
    "import sys\n",
    "import os\n",
    "fname = r'C:\\Users\\agmontesb\\Documents\\GitHub\\excel\\tests\\test_base_workbook.py'\n",
    "sys.path.append(os.path.abspath(os.path.join(os.path.dirname(fname), '..')))\n",
    "sys.path.append(os.path.abspath(os.path.join(os.path.dirname(fname), r'..\\tests')))"
   ]
  },
  {
   "cell_type": "code",
   "execution_count": 2,
   "metadata": {},
   "outputs": [],
   "source": [
    "import pytest\n",
    "import openpyxl as px\n",
    "import pandas as pd\n",
    "import itertools\n",
    "import re\n",
    "import inspect\n",
    "from typing import Any, Literal, Optional"
   ]
  },
  {
   "cell_type": "code",
   "execution_count": 3,
   "metadata": {},
   "outputs": [],
   "source": [
    "\n",
    "from excel_workbook import (\n",
    "    ExcelWorkbook, ExcelTable, \n",
    "    cell_address, cell_pattern, \n",
    "    tbl_address, rgn_pattern,\n",
    "    XlErrors, TABLE_DATA_MAP, EMPTY_CELL, CIRCULAR_REF,\n",
    "    tbl_pattern, rgn_pattern, flatten_sets\n",
    "    )\n",
    "\n",
    "from tests.utilities import TableComparator\n",
    "import xlfunctions as xlf\n"
   ]
  },
  {
   "cell_type": "code",
   "execution_count": 4,
   "metadata": {},
   "outputs": [],
   "source": [
    "from tests.fixtures import static_workbook as base_workbook"
   ]
  },
  {
   "cell_type": "code",
   "execution_count": 5,
   "metadata": {},
   "outputs": [],
   "source": [
    "wb = inspect.unwrap(base_workbook)()\n",
    "ws = wb.sheets[1]\n",
    "tbl = ws.tables[1]\n",
    "df = tbl.data"
   ]
  },
  {
   "cell_type": "code",
   "execution_count": 6,
   "metadata": {},
   "outputs": [
    {
     "data": {
      "text/html": [
       "<div>\n",
       "<style scoped>\n",
       "    .dataframe tbody tr th:only-of-type {\n",
       "        vertical-align: middle;\n",
       "    }\n",
       "\n",
       "    .dataframe tbody tr th {\n",
       "        vertical-align: top;\n",
       "    }\n",
       "\n",
       "    .dataframe thead th {\n",
       "        text-align: right;\n",
       "    }\n",
       "</style>\n",
       "<table border=\"1\" class=\"dataframe\">\n",
       "  <thead>\n",
       "    <tr style=\"text-align: right;\">\n",
       "      <th>col</th>\n",
       "      <th>E</th>\n",
       "      <th>F</th>\n",
       "      <th>G</th>\n",
       "      <th>H</th>\n",
       "    </tr>\n",
       "    <tr>\n",
       "      <th>row</th>\n",
       "      <th></th>\n",
       "      <th></th>\n",
       "      <th></th>\n",
       "      <th></th>\n",
       "    </tr>\n",
       "  </thead>\n",
       "  <tbody>\n",
       "    <tr>\n",
       "      <th>12</th>\n",
       "      <td>tabla 2:</td>\n",
       "      <td></td>\n",
       "      <td></td>\n",
       "      <td></td>\n",
       "    </tr>\n",
       "    <tr>\n",
       "      <th>13</th>\n",
       "      <td>l1</td>\n",
       "      <td>25</td>\n",
       "      <td>100</td>\n",
       "      <td>0</td>\n",
       "    </tr>\n",
       "    <tr>\n",
       "      <th>14</th>\n",
       "      <td>l2</td>\n",
       "      <td>10</td>\n",
       "      <td>25</td>\n",
       "      <td>35</td>\n",
       "    </tr>\n",
       "    <tr>\n",
       "      <th>15</th>\n",
       "      <td>l3</td>\n",
       "      <td>15</td>\n",
       "      <td>38</td>\n",
       "      <td>53</td>\n",
       "    </tr>\n",
       "    <tr>\n",
       "      <th>16</th>\n",
       "      <td>l4</td>\n",
       "      <td>80</td>\n",
       "      <td>2438</td>\n",
       "      <td>2518</td>\n",
       "    </tr>\n",
       "    <tr>\n",
       "      <th>17</th>\n",
       "      <td></td>\n",
       "      <td>105</td>\n",
       "      <td>2501</td>\n",
       "      <td>2606</td>\n",
       "    </tr>\n",
       "  </tbody>\n",
       "</table>\n",
       "</div>"
      ],
      "text/plain": [
       "<excel_workbook.ExcelTable at 0x2530b937160>"
      ]
     },
     "execution_count": 6,
     "metadata": {},
     "output_type": "execute_result"
    }
   ],
   "source": [
    "tbl"
   ]
  },
  {
   "cell_type": "code",
   "execution_count": 7,
   "metadata": {},
   "outputs": [
    {
     "data": {
      "text/html": [
       "<div>\n",
       "<style scoped>\n",
       "    .dataframe tbody tr th:only-of-type {\n",
       "        vertical-align: middle;\n",
       "    }\n",
       "\n",
       "    .dataframe tbody tr th {\n",
       "        vertical-align: top;\n",
       "    }\n",
       "\n",
       "    .dataframe thead th {\n",
       "        text-align: right;\n",
       "    }\n",
       "</style>\n",
       "<table border=\"1\" class=\"dataframe\">\n",
       "  <thead>\n",
       "    <tr style=\"text-align: right;\">\n",
       "      <th>col</th>\n",
       "      <th>E</th>\n",
       "      <th>F</th>\n",
       "      <th>G</th>\n",
       "      <th>H</th>\n",
       "    </tr>\n",
       "    <tr>\n",
       "      <th>row</th>\n",
       "      <th></th>\n",
       "      <th></th>\n",
       "      <th></th>\n",
       "      <th></th>\n",
       "    </tr>\n",
       "  </thead>\n",
       "  <tbody>\n",
       "    <tr>\n",
       "      <th>12</th>\n",
       "      <td>tabla 2:</td>\n",
       "      <td></td>\n",
       "      <td></td>\n",
       "      <td></td>\n",
       "    </tr>\n",
       "    <tr>\n",
       "      <th>13</th>\n",
       "      <td>l1</td>\n",
       "      <td>25</td>\n",
       "      <td>=+G6</td>\n",
       "      <td>=+$G$2*F13</td>\n",
       "    </tr>\n",
       "    <tr>\n",
       "      <th>14</th>\n",
       "      <td>l2</td>\n",
       "      <td>10</td>\n",
       "      <td>25</td>\n",
       "      <td>=+SUM(F14:G14)</td>\n",
       "    </tr>\n",
       "    <tr>\n",
       "      <th>15</th>\n",
       "      <td>l3</td>\n",
       "      <td>15</td>\n",
       "      <td>38</td>\n",
       "      <td>=+SUM(F15:G15)</td>\n",
       "    </tr>\n",
       "    <tr>\n",
       "      <th>16</th>\n",
       "      <td>l4</td>\n",
       "      <td>80</td>\n",
       "      <td>=+F9 + F13</td>\n",
       "      <td>=+SUM(F16:G16)</td>\n",
       "    </tr>\n",
       "    <tr>\n",
       "      <th>17</th>\n",
       "      <td></td>\n",
       "      <td>=+F16+F15+F14</td>\n",
       "      <td>=+G16+G15+G14</td>\n",
       "      <td>=+H16+H15+H14</td>\n",
       "    </tr>\n",
       "  </tbody>\n",
       "</table>\n",
       "</div>"
      ],
      "text/plain": [
       "col         E              F              G               H\n",
       "row                                                        \n",
       "12   tabla 2:                                              \n",
       "13         l1             25           =+G6      =+$G$2*F13\n",
       "14         l2             10             25  =+SUM(F14:G14)\n",
       "15         l3             15             38  =+SUM(F15:G15)\n",
       "16         l4             80     =+F9 + F13  =+SUM(F16:G16)\n",
       "17             =+F16+F15+F14  =+G16+G15+G14   =+H16+H15+H14"
      ]
     },
     "execution_count": 7,
     "metadata": {},
     "output_type": "execute_result"
    }
   ],
   "source": [
    "tbl.get_formula('E12:H17')"
   ]
  },
  {
   "cell_type": "code",
   "execution_count": 8,
   "metadata": {},
   "outputs": [],
   "source": [
    "class XlValue:\n",
    "    def __new__(cls, value):\n",
    "        if isinstance(value, XlErrors):\n",
    "            return value\n",
    "        instanve = super().__new__(cls)\n",
    "        instanve.value = value\n",
    "        return instanve\n",
    "\n",
    "    def __init__(self, value):\n",
    "        self.value = value\n",
    "\n",
    "    @staticmethod\n",
    "    def xl_val_dec(func):\n",
    "        def inner(self, other_in):\n",
    "            other = other_in.value if isinstance(other_in, XlValue) else other_in\n",
    "            cls = (type(1), type(1.0)) if isinstance(self.value, (type(1), type(1.0))) else type(self.value)\n",
    "            if isinstance(other, cls):\n",
    "                return func(self, other)\n",
    "            return XlErrors.VALUE_ERROR\n",
    "        return inner\n",
    "\n",
    "    @xl_val_dec\n",
    "    def __add__(self, other):\n",
    "        return self.value + other\n",
    "\n",
    "    @xl_val_dec\n",
    "    def __radd__(self, other):\n",
    "        return self.__add__(other)  # Delegate to __add__\n",
    "\n",
    "    @xl_val_dec\n",
    "    def __sub__(self, other):\n",
    "        return self.value - other\n",
    "\n",
    "    @xl_val_dec\n",
    "    def __rsub__(self, other):\n",
    "        return -self.__sub__(other)\n",
    "\n",
    "    @xl_val_dec\n",
    "    def __mul__(self, other):\n",
    "        return self.value * other\n",
    "\n",
    "    @xl_val_dec\n",
    "    def __rmul__(self, other):\n",
    "        return self.__mul__(other)\n",
    "\n",
    "    @xl_val_dec\n",
    "    def __truediv__(self, other):\n",
    "        if other == 0:\n",
    "            return XlErrors.DIV_ZERO_ERROR\n",
    "        return self.value / other\n",
    "\n",
    "    @xl_val_dec\n",
    "    def __rtruediv__(self, other):\n",
    "        if self.value == 0:\n",
    "            return XlErrors.DIV_ZERO_ERROR\n",
    "        return other / self.value\n",
    "\n",
    "    @xl_val_dec\n",
    "    def __eq__(self, other: object) -> bool:\n",
    "        return isinstance(other, self.__class__) and self.value == other.value\n",
    "\n",
    "    @xl_val_dec\n",
    "    def __ne__(self, other: object) -> bool:\n",
    "        return not self.__eq__(other)\n",
    "\n",
    "    def __hash__(self):\n",
    "        return super().__hash__()\n",
    "    \n",
    "    def __str__(self):\n",
    "        return str(self.value)\n"
   ]
  },
  {
   "cell_type": "code",
   "execution_count": 9,
   "metadata": {},
   "outputs": [],
   "source": [
    "val1 = XlValue(10)\n",
    "val2 = XlValue(-10)\n",
    "val3 =XlValue(XlErrors.DIV_ZERO_ERROR)"
   ]
  },
  {
   "cell_type": "code",
   "execution_count": 10,
   "metadata": {},
   "outputs": [],
   "source": [
    "s1 = pd.Series([XlValue(x) for x in  [1, 2, 3, 4, 5]])\n",
    "s2 = pd.Series([XlValue(x) for x in  [1, 'uno', 3, 0, 5]])"
   ]
  },
  {
   "cell_type": "code",
   "execution_count": 11,
   "metadata": {},
   "outputs": [
    {
     "data": {
      "text/html": [
       "<div>\n",
       "<style scoped>\n",
       "    .dataframe tbody tr th:only-of-type {\n",
       "        vertical-align: middle;\n",
       "    }\n",
       "\n",
       "    .dataframe tbody tr th {\n",
       "        vertical-align: top;\n",
       "    }\n",
       "\n",
       "    .dataframe thead th {\n",
       "        text-align: right;\n",
       "    }\n",
       "</style>\n",
       "<table border=\"1\" class=\"dataframe\">\n",
       "  <thead>\n",
       "    <tr style=\"text-align: right;\">\n",
       "      <th></th>\n",
       "      <th>a</th>\n",
       "      <th>b</th>\n",
       "    </tr>\n",
       "  </thead>\n",
       "  <tbody>\n",
       "    <tr>\n",
       "      <th>0</th>\n",
       "      <td>1</td>\n",
       "      <td>4</td>\n",
       "    </tr>\n",
       "    <tr>\n",
       "      <th>1</th>\n",
       "      <td>2</td>\n",
       "      <td>5</td>\n",
       "    </tr>\n",
       "    <tr>\n",
       "      <th>2</th>\n",
       "      <td>3</td>\n",
       "      <td>6</td>\n",
       "    </tr>\n",
       "  </tbody>\n",
       "</table>\n",
       "</div>"
      ],
      "text/plain": [
       "   a  b\n",
       "0  1  4\n",
       "1  2  5\n",
       "2  3  6"
      ]
     },
     "execution_count": 11,
     "metadata": {},
     "output_type": "execute_result"
    }
   ],
   "source": [
    "df = pd.DataFrame({'a': [1, 2, 3], 'b': [4, 5, 6]})\n",
    "df"
   ]
  },
  {
   "cell_type": "code",
   "execution_count": 12,
   "metadata": {},
   "outputs": [],
   "source": [
    "def mySum(df, axis:Literal[0, 1] | None = None):\n",
    "    if axis is None:\n",
    "        return df.sum(axis=0).sum()\n",
    "    elif axis == 0:\n",
    "        return pd.Series([df.loc[:, x].sum() for x in df.columns], index=df.columns)\n",
    "    else:\n",
    "        return pd.Series([df.loc[x, :].sum() for x in df.index], index=df.index)"
   ]
  },
  {
   "cell_type": "code",
   "execution_count": 13,
   "metadata": {},
   "outputs": [],
   "source": [
    "class strWrapper:\n",
    "    fnc_names = [x for x in dir(pd.Series.str) if not x.startswith('_')]\n",
    "    \n",
    "    def __init__(self, s):\n",
    "        self.s = s\n",
    "\n",
    "    @staticmethod\n",
    "    def str_dec(strfnc):\n",
    "         def inner(*args, **kwargs):\n",
    "            print(f'{args=}, {kwargs=}')\n",
    "            answ = strfnc(*args, **kwargs)\n",
    "            print(f'{answ=}')\n",
    "            return answ.where(~answ.isna(), XlErrors.VALUE_ERROR)\n",
    "         return inner\n",
    "\n",
    "    def __getattr__(self, name):\n",
    "           if name in self.fnc_names:\n",
    "                return self.str_dec(getattr(self.s.str, name))\n",
    "           raise AttributeError(f\"'{name}' not found\")\n",
    "\n",
    "class MyClass:\n",
    "    def __init__(self, s):\n",
    "        self.s = s\n",
    "    \n",
    "    @property\n",
    "    def str(self):\n",
    "        s = pd.Series([x.value for x in self.s], index=self.s.index)\n",
    "        return strWrapper(s)\n",
    "    \n",
    "    def __getattr__(self, name):\n",
    "        return getattr(self.s, name)"
   ]
  },
  {
   "cell_type": "code",
   "execution_count": 14,
   "metadata": {},
   "outputs": [
    {
     "data": {
      "text/plain": [
       "<__main__.MyClass at 0x2530b89d3f0>"
      ]
     },
     "execution_count": 14,
     "metadata": {},
     "output_type": "execute_result"
    }
   ],
   "source": [
    "S2 = MyClass(s2)\n",
    "S2"
   ]
  },
  {
   "cell_type": "code",
   "execution_count": 15,
   "metadata": {},
   "outputs": [
    {
     "data": {
      "text/plain": [
       "np.int64(21000)"
      ]
     },
     "execution_count": 15,
     "metadata": {},
     "output_type": "execute_result"
    }
   ],
   "source": [
    "from excel_workbook import pythonize_fml\n",
    "range_ = [100000, 200000, 300000, 400000]\n",
    "sum_range = [7000, 14000, 21000, 28000]\n",
    "# sum_range = None\n",
    "criteria = 300000\n",
    "xlf.sumif(range_, criteria, sum_range)\n"
   ]
  },
  {
   "cell_type": "code",
   "execution_count": null,
   "metadata": {},
   "outputs": [],
   "source": [
    "criteria = str(criteria)\n",
    "criteria = pythonize_fml(criteria, table_name='tbl')\n",
    "if not criteria.startswith(('=', '>', '<')):\n",
    "    criteria = f'=={criteria}'\n",
    "criteria = f'range{criteria}'\n",
    "criteria"
   ]
  },
  {
   "cell_type": "code",
   "execution_count": 30,
   "metadata": {},
   "outputs": [
    {
     "data": {
      "text/plain": [
       "np.int64(21000)"
      ]
     },
     "execution_count": 30,
     "metadata": {},
     "output_type": "execute_result"
    }
   ],
   "source": [
    "sum_range = sum_range or range_\n",
    "s = (\n",
    "    pd.DataFrame({'range':range_, 'sum_range':sum_range})\n",
    "    .query(criteria)\n",
    "    .loc[:, 'sum_range']\n",
    "    .sum()\n",
    ")\n",
    "s"
   ]
  },
  {
   "cell_type": "code",
   "execution_count": 1,
   "metadata": {},
   "outputs": [],
   "source": [
    "import re\n",
    "import pandas as pd"
   ]
  },
  {
   "cell_type": "code",
   "execution_count": 2,
   "metadata": {},
   "outputs": [
    {
     "data": {
      "text/plain": [
       "(2, 1, 0, 0)"
      ]
     },
     "execution_count": 2,
     "metadata": {},
     "output_type": "execute_result"
    }
   ],
   "source": [
    "texto = 'alex?mont~?es'\n",
    "texto.count('?'), texto.count('~?'), texto.count('*'), texto.count('~*')"
   ]
  },
  {
   "cell_type": "code",
   "execution_count": 14,
   "metadata": {},
   "outputs": [],
   "source": [
    "import inspect\n",
    "\n",
    "import xlfunctions as xlf"
   ]
  },
  {
   "cell_type": "code",
   "execution_count": 15,
   "metadata": {},
   "outputs": [],
   "source": [
    "def xlFmlStr(tpl, with_kwargs=True):\n",
    "    xlstr = lambda x: f\"{chr(34)}{x}{chr(34)}\" if x[::len(x)-1] != '\"\"' else f\"\\'{x}\\'\"\n",
    "    fnc = getattr(xlf, tpl[0])\n",
    "    sig = inspect.Signature.from_callable(fnc)\n",
    "    bsig = sig.bind(*tpl[1])\n",
    "    if not with_kwargs or str(sig) == '(*data)':\n",
    "        sig_str = ', '.join(\n",
    "            f'{value}'\n",
    "            for x in [*bsig.args, *bsig.kwargs.values()]\n",
    "                            if (\n",
    "                value := xlstr(x) if isinstance(x, str) else \n",
    "                '[' + ', '.join(\n",
    "                            xlstr(y) if isinstance(y, str) else str(y).upper()\n",
    "                            for y in x\n",
    "                        ) + ']' if isinstance(x, list) else \n",
    "                str(x).upper()\n",
    "            )\n",
    "        )\n",
    "    else:\n",
    "        sig_str = ', '.join(\n",
    "            f'{value}' if sig.parameters[key].default == inspect._empty else f'{key}={value}' \n",
    "            for key, x in bsig.arguments.items()\n",
    "            if (\n",
    "                value := xlstr(x) if isinstance(x, str) else \n",
    "                '[' + ', '.join(\n",
    "                            xlstr(y) if isinstance(y, str) else str(y).upper()\n",
    "                            for y in x\n",
    "                        ) + ']' if isinstance(x, list) else \n",
    "                str(x).upper()\n",
    "            )\n",
    "        )\n",
    "    return f\"{tpl[0].replace('_', '').upper()}({sig_str})\"\n"
   ]
  },
  {
   "cell_type": "code",
   "execution_count": 16,
   "metadata": {},
   "outputs": [
    {
     "data": {
      "text/plain": [
       "'SUMIF([\"Vegetables\", \"Vegetables\", \"Fruits\", \"\", \"Vegetables\", \"Fruits\"], \\'\"Fruits\"\\', [2300, 5500, 800, 400, 4200, 1200])'"
      ]
     },
     "execution_count": 16,
     "metadata": {},
     "output_type": "execute_result"
    }
   ],
   "source": [
    "tpl = ('sumif', [[\"Vegetables\", \"Vegetables\", \"Fruits\", \"\", \"Vegetables\", \"Fruits\"], '\"Fruits\"', [2_300, 5_500, 800, 400, 4_200, 1_200]], 2_000.0)\n",
    "xlFmlStr(tpl, with_kwargs=False)"
   ]
  },
  {
   "cell_type": "code",
   "execution_count": 25,
   "metadata": {},
   "outputs": [
    {
     "data": {
      "text/plain": [
       "False"
      ]
     },
     "execution_count": 25,
     "metadata": {},
     "output_type": "execute_result"
    }
   ],
   "source": [
    "criteria = '+234.25a'\n",
    "criteria.translate(str.maketrans({'.': '', '-': '', '+':''})).isdigit()"
   ]
  },
  {
   "cell_type": "code",
   "execution_count": null,
   "metadata": {},
   "outputs": [],
   "source": []
  },
  {
   "cell_type": "code",
   "execution_count": null,
   "metadata": {},
   "outputs": [],
   "source": []
  },
  {
   "cell_type": "code",
   "execution_count": null,
   "metadata": {},
   "outputs": [],
   "source": []
  },
  {
   "cell_type": "code",
   "execution_count": null,
   "metadata": {},
   "outputs": [],
   "source": [
    "fmls = \"\"\"=+$G$2*F13\n",
    "=+F14+G14\n",
    "=+SUM(F15:G15)\n",
    "=+SUM(F16:G16)\n",
    "=+H16+H15+H14\"\"\".split('\\n')\n",
    "fmls"
   ]
  },
  {
   "cell_type": "code",
   "execution_count": null,
   "metadata": {},
   "outputs": [],
   "source": [
    "cells = '''$H$13\n",
    "$H$14\n",
    "$H$15\n",
    "$H$16\n",
    "$H$17\n",
    "'''.replace('$', '').splitlines()\n",
    "cells"
   ]
  },
  {
   "cell_type": "code",
   "execution_count": null,
   "metadata": {},
   "outputs": [],
   "source": [
    "cell_to_delete = 'F'\n",
    "changes = [f'{cell_to_delete}{i}' for i in range(13, 18)]\n",
    "changes"
   ]
  },
  {
   "cell_type": "code",
   "execution_count": null,
   "metadata": {},
   "outputs": [],
   "source": [
    "err_ref_cell = \"'Hoja de Trabajo'!Z0\""
   ]
  },
  {
   "cell_type": "code",
   "execution_count": null,
   "metadata": {},
   "outputs": [],
   "source": [
    "def pass_anchors(coord1, coord2):\n",
    "    return coord2\n"
   ]
  },
  {
   "cell_type": "code",
   "execution_count": null,
   "metadata": {},
   "outputs": [],
   "source": [
    "def shrink_range(linf, lsup, changes, del_what):\n",
    "    bflag = del_what == 'col'\n",
    "    k1, k2, fnc, gnc = (2, 3, ord, chr) if bflag else (3, 2, int, str)\n",
    "    ucol = cell_pattern.match(lsup).group(k1)\n",
    "    lx_row = cell_pattern.match(changes[0]).group(k2)\n",
    "    row_changes = [\n",
    "        tpl[k1 - 1] for x in changes \n",
    "        if (tpl := cell_pattern.match(x).groups()) and tpl[k2 - 1] == lx_row and tpl[k1 - 1] <= ucol\n",
    "    ]\n",
    "    if not row_changes:\n",
    "        return linf, lsup\n",
    "    min_col = fnc(row_changes[0]) if linf in changes else (fnc(row_changes[0]) - 1)\n",
    "    n = len(row_changes)\n",
    "    answ = [linf]\n",
    "    for x in (linf, lsup)[1 - int(linf in changes):]:\n",
    "        tpl = list(cell_pattern.match(x).groups())\n",
    "        tpl[2 - int(bflag)] = gnc(max(min_col, (fnc(tpl[2 - int(bflag)]) - n)))\n",
    "        sht, col, row = tpl\n",
    "        x = f\"'{sht}'!{col}{row}\" if sht else f\"{col}{row}\"\n",
    "        answ.append(x)\n",
    "\n",
    "    return answ[-2:]\n"
   ]
  },
  {
   "cell_type": "code",
   "execution_count": null,
   "metadata": {},
   "outputs": [],
   "source": [
    "del_action = 'col'\n",
    "pattern = rgn_pattern\n",
    "def replacement(m):\n",
    "    if ':' in m[0]:\n",
    "        m = tbl_pattern.match(m[0])\n",
    "        prefix = f\"'{m[1]}'!\" if m[1] else ''\n",
    "        linf, lsup = map(lambda x: f\"{prefix}{x}\", m[0].replace('$', '').split(':'))\n",
    "        if err_ref_cell and all(x in changes for x in (linf, lsup)):\n",
    "            return err_ref_cell\n",
    "        linf, lsup = shrink_range(linf, lsup, changes, del_action)\n",
    "        lsup = lsup.split('!')[-1]\n",
    "        linf, lsup = map(lambda tpl: pass_anchors(*tpl), zip(m[0].split(':'), (linf, lsup)))\n",
    "        sub_str = ':'.join([linf, lsup])\n",
    "        return sub_str\n",
    "    key = m[0].replace('$', '')\n",
    "    return (err_ref_cell or pass_anchors(m[0], changes[key])) if key in changes else m[0]\n"
   ]
  },
  {
   "cell_type": "code",
   "execution_count": null,
   "metadata": {},
   "outputs": [],
   "source": [
    "scase = ['ABC', 'EFG', 'CDEF'][0]\n",
    "changes = [f'{col}{row}' for col in scase for row in range(13, 18)]\n",
    "changes"
   ]
  },
  {
   "cell_type": "code",
   "execution_count": null,
   "metadata": {},
   "outputs": [],
   "source": [
    "shrink_range('F15', 'G15', [f'G{x}' for x in range(13, 18)], 'col')"
   ]
  },
  {
   "cell_type": "code",
   "execution_count": null,
   "metadata": {},
   "outputs": [],
   "source": [
    "def test_del_cases(scase, ncase, del_action):\n",
    "        if del_action == 'col':\n",
    "                changes = [f'{col}{row}' for col in scase for row in range(13, 18)]\n",
    "        else:\n",
    "                changes = [f'{chr(col)}{row}' for col in range(ord('A'), ord('H') + 1) for row in scase]\n",
    "        fml = fmls[ncase]\n",
    "        linf, lsup = rgn_pattern.search(fml)[0].split(':')\n",
    "        l_answ, r_answ = shrink_range(linf, lsup, changes, del_action)\n",
    "        return fml, (linf, lsup), (l_answ, r_answ)"
   ]
  },
  {
   "cell_type": "code",
   "execution_count": null,
   "metadata": {},
   "outputs": [],
   "source": [
    "scase, ncase, del_action = range(15, 20), 0, 'row'\n",
    "if del_action == 'col':\n",
    "    answ = locals().get(f'del_{scase}').splitlines()[ncase]\n",
    "    left, right = rgn_pattern.search(answ)[0].split(':')\n",
    "else:\n",
    "    fmls = '''=+SUM(A13:A17)\t=+SUM(B13:B17)\t=+SUM(C13:C17)\t=+SUM(D13:D17)\t=+SUM(E13:E17)\t=+SUM(F13:F17)\t=+SUM(G13:G17)'''.split('\\t')\n",
    "fml, tpl1, tpl2 = test_del_cases(scase, ncase, del_action)\n",
    "print(fml, tpl1)\n",
    "# print(tpl2, (left, right))\n",
    "print(tpl2, ('left', 'right'))"
   ]
  },
  {
   "cell_type": "code",
   "execution_count": null,
   "metadata": {},
   "outputs": [],
   "source": [
    "del_action = 'col'\n",
    "\n",
    "for scase in ['ABC', 'EFG', 'CDEF']:\n",
    "    for ncase in range(5):\n",
    "        answ = locals().get(f'del_{scase}').splitlines()[ncase]\n",
    "        left, right = rgn_pattern.search(answ)[0].split(':')\n",
    "        fml, (linf, lsup), (l_answ, r_answ) = test_del_cases(scase, ncase, del_action)\n",
    "\n",
    "        if not all(x == y for x, y in zip((left, right), (l_answ, r_answ))):\n",
    "            print(f'*** {scase=}, {ncase=}')\n",
    "            print(f'    {fml=}, {linf=}, {lsup=}, {left=}, {right=}')\n",
    "            print(f'    ({l_answ=}, {l_answ == left}), ({r_answ=}, {r_answ == right})')"
   ]
  },
  {
   "cell_type": "code",
   "execution_count": null,
   "metadata": {},
   "outputs": [],
   "source": []
  },
  {
   "cell_type": "code",
   "execution_count": null,
   "metadata": {},
   "outputs": [],
   "source": [
    "fmls = base.split('\\n')\n",
    "fmls"
   ]
  },
  {
   "cell_type": "code",
   "execution_count": null,
   "metadata": {},
   "outputs": [],
   "source": [
    "df = pd.DataFrame(fmls, columns=['fml'], index=pd.Index(cells, name='cell'))\n",
    "df"
   ]
  },
  {
   "cell_type": "code",
   "execution_count": null,
   "metadata": {},
   "outputs": [],
   "source": [
    "\n",
    "df.fml.str.replace(\n",
    "    pattern,\n",
    "    replacement,\n",
    "    regex=True\n",
    ")            \n"
   ]
  },
  {
   "cell_type": "code",
   "execution_count": null,
   "metadata": {},
   "outputs": [],
   "source": [
    "import collections\n",
    "list(collections.Counter(['B', 'C', 'B', 'C', 'A']).keys())"
   ]
  },
  {
   "cell_type": "code",
   "execution_count": null,
   "metadata": {},
   "outputs": [],
   "source": [
    "base = '''=+SUM(A13:G13)\n",
    "=+SUM(C14:G14)\n",
    "=+SUM(A15:E15)\n",
    "=+SUM(A16:D16)\n",
    "=+SUM(A13:G17)'''\n"
   ]
  },
  {
   "cell_type": "code",
   "execution_count": null,
   "metadata": {},
   "outputs": [],
   "source": [
    "del_ABC = '''=+SUM(A13:D13)\n",
    "=+SUM(A14:D14)\n",
    "=+SUM(A15:B15)\n",
    "=+SUM(A16:A16)\n",
    "=+SUM(A13:D17)'''"
   ]
  },
  {
   "cell_type": "code",
   "execution_count": null,
   "metadata": {},
   "outputs": [],
   "source": [
    "del_EFG = '''=+SUM(A13:D13)\n",
    "=+SUM(C14:D14)\n",
    "=+SUM(A15:D15)\n",
    "=+SUM(A16:D16)\n",
    "=+SUM(A13:D17)'''"
   ]
  },
  {
   "cell_type": "code",
   "execution_count": null,
   "metadata": {},
   "outputs": [],
   "source": [
    "del_CDEF = '''=+SUM(A13:C13)\n",
    "=+SUM(C14:C14)\n",
    "=+SUM(A15:B15)\n",
    "=+SUM(A16:B16)\n",
    "=+SUM(A13:C17)'''"
   ]
  },
  {
   "cell_type": "code",
   "execution_count": null,
   "metadata": {},
   "outputs": [],
   "source": [
    "def xlf_code(arange):\n",
    "    s = pd.Series(arange.flatten())\n",
    "    return s.str[0].map(lambda x: ord(x))"
   ]
  },
  {
   "cell_type": "code",
   "execution_count": null,
   "metadata": {},
   "outputs": [],
   "source": [
    "pd.Series(tbl['E12:E14'].values.flatten()).str[0].map(lambda x: ord(x))\n"
   ]
  },
  {
   "cell_type": "code",
   "execution_count": null,
   "metadata": {},
   "outputs": [],
   "source": [
    "from xlfunctions import *"
   ]
  },
  {
   "cell_type": "code",
   "execution_count": null,
   "metadata": {},
   "outputs": [],
   "source": [
    "def xlf_lower(*arange):\n",
    "    s = pd.Series(pd.Series(arange).values.flatten())\n",
    "    return s.str.lower()\n"
   ]
  },
  {
   "cell_type": "code",
   "execution_count": null,
   "metadata": {},
   "outputs": [],
   "source": [
    "pd.Series([tbl['E12'].values]).values"
   ]
  },
  {
   "cell_type": "code",
   "execution_count": null,
   "metadata": {},
   "outputs": [],
   "source": [
    "xlf_lower(tbl['E12'].values)"
   ]
  },
  {
   "cell_type": "code",
   "execution_count": null,
   "metadata": {},
   "outputs": [],
   "source": [
    "tbl"
   ]
  },
  {
   "cell_type": "code",
   "execution_count": null,
   "metadata": {},
   "outputs": [],
   "source": []
  }
 ],
 "metadata": {
  "kernelspec": {
   "display_name": "excel-vZ5sKczD-py3.10",
   "language": "python",
   "name": "python3"
  },
  "language_info": {
   "codemirror_mode": {
    "name": "ipython",
    "version": 3
   },
   "file_extension": ".py",
   "mimetype": "text/x-python",
   "name": "python",
   "nbconvert_exporter": "python",
   "pygments_lexer": "ipython3",
   "version": "3.10.11"
  }
 },
 "nbformat": 4,
 "nbformat_minor": 2
}
