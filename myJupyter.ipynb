{
 "cells": [
  {
   "cell_type": "code",
   "execution_count": 7,
   "metadata": {},
   "outputs": [],
   "source": [
    "import sys\n",
    "import os\n",
    "fname = r'C:\\Users\\agmontesb\\Documents\\GitHub\\excel\\tests\\test_base_workbook.py'\n",
    "sys.path.append(os.path.abspath(os.path.join(os.path.dirname(fname), '..')))"
   ]
  },
  {
   "cell_type": "code",
   "execution_count": 8,
   "metadata": {},
   "outputs": [],
   "source": [
    "import pytest\n",
    "import openpyxl as px\n",
    "import pandas as pd\n",
    "import functools\n",
    "import collections\n",
    "\n",
    "from excel_workbook import (\n",
    "    ExcelWorkbook, ExcelTable, \n",
    "    cell_address, cell_pattern, \n",
    "    data_in_range, tbl_address, rgn_pattern,\n",
    "    XlErrors, TABLE_DATA_MAP\n",
    "    )\n",
    "\n"
   ]
  },
  {
   "cell_type": "code",
   "execution_count": 9,
   "metadata": {},
   "outputs": [],
   "source": [
    "def base_workbook():\n",
    "    # Create a base workbook for testing\n",
    "    filename = r\"C:\\Users\\agmontesb\\Downloads\\excel_module_test.xlsx\"\n",
    "    wb = px.load_workbook(filename)\n",
    "\n",
    "    excel_wb = ExcelWorkbook('excel_module_test')\n",
    "\n",
    "    ws_name = \"No links, No parameters\"\n",
    "    ws = wb[ws_name]\n",
    "    wsheet = excel_wb.create_worksheet(ws_name)\n",
    "\n",
    "    # Tabla 1\n",
    "    ws_range = \"G4:I9\"\n",
    "    fmls, values = data_in_range(ws, ws_range)\n",
    "    sh1_tbl1 = ExcelTable(wsheet, 'sh1_tbl1', ws_range, fmls, values, recalc=True)\n",
    "    # m_sh1_tbl1 = sh1_tbl1.minimun_table()\n",
    "\n",
    "    # Tabla 2\n",
    "    ws_range = \"G13:H15\"\n",
    "    fmls, values = data_in_range(ws, ws_range)\n",
    "    sh1_tbl2 = ExcelTable(wsheet, 'sh1_tbl2', ws_range, fmls, values, recalc=True)\n",
    "    m_sh1_tbl2 = sh1_tbl2.minimun_table()\n",
    "\n",
    "    ws_name = \"Parameters and inner links\"\n",
    "    ws = wb[ws_name]\n",
    "    wsheet = excel_wb.create_worksheet(ws_name)\n",
    "\n",
    "    # Tabla 1\n",
    "    ws_range = \"F4:H9\"\n",
    "    fmls, values = data_in_range(ws, ws_range)\n",
    "    sh2_tbl1 = ExcelTable(wsheet, 'sh2_tbl1', ws_range, fmls, values, recalc=True)\n",
    "    # m_sh2_tbl1 = sh2_tbl1.minimun_table()\n",
    "\n",
    "    # Tabla 2\n",
    "    ws_range = \"F13:H17\"\n",
    "    fmls, values = data_in_range(ws, ws_range)\n",
    "    sh2_tbl2 = ExcelTable(wsheet, 'sh2_tbl2', ws_range, fmls, values, recalc=True)\n",
    "    # m_sh2_tbl2 = sh2_tbl2.minimun_table()\n",
    "\n",
    "    ws_name = \"Outer links, outer parameter\"\n",
    "    ws = wb[ws_name]\n",
    "    wsheet = excel_wb.create_worksheet(ws_name)\n",
    "\n",
    "    # Tabla 1\n",
    "    ws_range = \"F3:H8\"\n",
    "    fmls, values = data_in_range(ws, ws_range)\n",
    "    sh3_tbl1 = ExcelTable(wsheet, 'sh3_tbl1', ws_range, fmls, values, recalc=True)\n",
    "    # m_sh3_tbl1 = sh3_tbl1.minimun_table()\n",
    "\n",
    "    wb.close()\n",
    "    return excel_wb\n"
   ]
  },
  {
   "cell_type": "code",
   "execution_count": 10,
   "metadata": {},
   "outputs": [
    {
     "name": "stderr",
     "output_type": "stream",
     "text": [
      "c:\\Users\\agmontesb\\Documents\\GitHub\\excel\\excel_workbook.py:1278: FutureWarning: Downcasting object dtype arrays on .fillna, .ffill, .bfill is deprecated and will change in a future version. Call result.infer_objects(copy=False) instead. To opt-in to the future behavior, set `pd.set_option('future.no_silent_downcasting', True)`\n",
      "  df = self[excel_slice].fillna(0)\n"
     ]
    }
   ],
   "source": [
    "wb = base_workbook()"
   ]
  },
  {
   "cell_type": "code",
   "execution_count": 11,
   "metadata": {},
   "outputs": [],
   "source": [
    "ws = wb['Parameters and inner links']\n",
    "tbl = ws['sh2_tbl1']"
   ]
  },
  {
   "cell_type": "code",
   "execution_count": 12,
   "metadata": {},
   "outputs": [
    {
     "ename": "NameError",
     "evalue": "name 'ws' is not defined",
     "output_type": "error",
     "traceback": [
      "\u001b[1;31m---------------------------------------------------------------------------\u001b[0m",
      "\u001b[1;31mNameError\u001b[0m                                 Traceback (most recent call last)",
      "Cell \u001b[1;32mIn[12], line 1\u001b[0m\n\u001b[1;32m----> 1\u001b[0m \u001b[43mws\u001b[49m\u001b[38;5;241;43m.\u001b[39;49m\u001b[43mdelete\u001b[49m\u001b[43m(\u001b[49m\u001b[38;5;124;43m'\u001b[39;49m\u001b[38;5;124;43mF\u001b[39;49m\u001b[38;5;124;43m'\u001b[39;49m\u001b[43m)\u001b[49m\n",
      "File \u001b[1;32mc:\\Users\\agmontesb\\Documents\\GitHub\\excel\\excel_workbook.py:450\u001b[0m, in \u001b[0;36mExcelWorksheet.delete\u001b[1;34m(self, cell_slice)\u001b[0m\n\u001b[0;32m    448\u001b[0m \u001b[38;5;28;01massert\u001b[39;00m \u001b[38;5;129;01mnot\u001b[39;00m df\u001b[38;5;241m.\u001b[39mindex\u001b[38;5;241m.\u001b[39misin(cells)\u001b[38;5;241m.\u001b[39many(), \u001b[38;5;124m'\u001b[39m\u001b[38;5;124mInsert: Not all cells has been displaced\u001b[39m\u001b[38;5;124m'\u001b[39m\n\u001b[0;32m    449\u001b[0m \u001b[38;5;28mself\u001b[39m\u001b[38;5;241m.\u001b[39minsert(cell_slice, from_delete\u001b[38;5;241m=\u001b[39m\u001b[38;5;28;01mTrue\u001b[39;00m)\n\u001b[1;32m--> 450\u001b[0m \u001b[38;5;28;43mself\u001b[39;49m\u001b[38;5;241;43m.\u001b[39;49m\u001b[43mpropagate_error\u001b[49m\u001b[43m(\u001b[49m\u001b[43mXlErrors\u001b[49m\u001b[38;5;241;43m.\u001b[39;49m\u001b[43mREF_ERROR\u001b[49m\u001b[43m)\u001b[49m\n",
      "File \u001b[1;32mc:\\Users\\agmontesb\\Documents\\GitHub\\excel\\excel_workbook.py:307\u001b[0m, in \u001b[0;36mExcelWorksheet.propagate_error\u001b[1;34m(self, xl_error, codes)\u001b[0m\n\u001b[0;32m    302\u001b[0m to_process \u001b[38;5;241m=\u001b[39m {}\n\u001b[0;32m    303\u001b[0m \u001b[38;5;28;01mif\u001b[39;00m codes \u001b[38;5;129;01mis\u001b[39;00m \u001b[38;5;28;01mNone\u001b[39;00m:\n\u001b[0;32m    304\u001b[0m     \u001b[38;5;66;03m# Se quiere registrar todos los códigos de las celdas que tienen un error\u001b[39;00m\n\u001b[0;32m    305\u001b[0m     \u001b[38;5;66;03m# por el momento esto se hace solo en REF_ERROR ya que los otros salen del cálculo\u001b[39;00m\n\u001b[0;32m    306\u001b[0m     \u001b[38;5;66;03m# de las celdas.\u001b[39;00m\n\u001b[1;32m--> 307\u001b[0m     \u001b[38;5;28;01mfor\u001b[39;00m tbl \u001b[38;5;129;01min\u001b[39;00m \u001b[43mws\u001b[49m\u001b[38;5;241m.\u001b[39mtables:\n\u001b[0;32m    308\u001b[0m         df \u001b[38;5;241m=\u001b[39m tbl\u001b[38;5;241m.\u001b[39mdata\n\u001b[0;32m    309\u001b[0m         \u001b[38;5;28;01mtry\u001b[39;00m:\n",
      "\u001b[1;31mNameError\u001b[0m: name 'ws' is not defined"
     ]
    }
   ],
   "source": [
    "ws.delete('F')"
   ]
  },
  {
   "cell_type": "code",
   "execution_count": null,
   "metadata": {},
   "outputs": [],
   "source": [
    "ws"
   ]
  },
  {
   "cell_type": "code",
   "execution_count": null,
   "metadata": {},
   "outputs": [],
   "source": [
    "ws"
   ]
  }
 ],
 "metadata": {
  "kernelspec": {
   "display_name": "excel-vZ5sKczD-py3.10",
   "language": "python",
   "name": "python3"
  },
  "language_info": {
   "codemirror_mode": {
    "name": "ipython",
    "version": 3
   },
   "file_extension": ".py",
   "mimetype": "text/x-python",
   "name": "python",
   "nbconvert_exporter": "python",
   "pygments_lexer": "ipython3",
   "version": "3.10.11"
  }
 },
 "nbformat": 4,
 "nbformat_minor": 2
}
