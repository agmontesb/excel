{
 "cells": [
  {
   "cell_type": "code",
   "execution_count": 12,
   "metadata": {},
   "outputs": [],
   "source": [
    "import sys\n",
    "import os\n",
    "fname = r'C:\\Users\\agmontesb\\Documents\\GitHub\\excel\\tests\\test_base_workbook.py'\n",
    "sys.path.append(os.path.abspath(os.path.join(os.path.dirname(fname), '..')))"
   ]
  },
  {
   "cell_type": "code",
   "execution_count": 13,
   "metadata": {},
   "outputs": [],
   "source": [
    "import pytest\n",
    "import openpyxl as px\n",
    "import pandas as pd\n",
    "import itertools\n",
    "import collections\n",
    "\n",
    "from excel_workbook import (\n",
    "    ExcelWorkbook, ExcelTable, \n",
    "    cell_address, cell_pattern, \n",
    "    data_in_range, tbl_address, rgn_pattern,\n",
    "    XlErrors, TABLE_DATA_MAP, EMPTY_CELL\n",
    "    )\n",
    "\n"
   ]
  },
  {
   "cell_type": "code",
   "execution_count": 14,
   "metadata": {},
   "outputs": [],
   "source": [
    "def base_workbook(case):\n",
    "    # Create a base workbook for testing\n",
    "    filename = r\"C:\\Users\\agmontesb\\Downloads\\excel_module_test.xlsx\"\n",
    "    wb = px.load_workbook(filename)\n",
    "\n",
    "    excel_wb = ExcelWorkbook('excel_module_test')\n",
    "\n",
    "    ws_name = \"No links, No parameters\"\n",
    "    ws = wb[ws_name]\n",
    "    wsheet = excel_wb.create_worksheet(ws_name)\n",
    "\n",
    "    # Tabla 1\n",
    "    ws_range = [\"G4:I9\", \"F3:I9\"][case]\n",
    "    fmls, values = data_in_range(ws, ws_range)\n",
    "    sh1_tbl1 = ExcelTable(wsheet, 'sh1_tbl1', ws_range, fmls, values, recalc=True)\n",
    "    # m_sh1_tbl1 = sh1_tbl1.minimun_table()\n",
    "\n",
    "    # Tabla 2\n",
    "    ws_range = [\"G11:H15\", \"F12:H15\"][case]\n",
    "    fmls, values = data_in_range(ws, ws_range)\n",
    "    sh1_tbl2 = ExcelTable(wsheet, 'sh1_tbl2', ws_range, fmls, values, recalc=True)\n",
    "    m_sh1_tbl2 = sh1_tbl2.minimun_table()\n",
    "\n",
    "    ws_name = \"Parameters and inner links\"\n",
    "    ws = wb[ws_name]\n",
    "    wsheet = excel_wb.create_worksheet(ws_name)\n",
    "\n",
    "    # Tabla 1\n",
    "    ws_range = [\"F4:H9\", \"E3:H9\"][case]\n",
    "    fmls, values = data_in_range(ws, ws_range)\n",
    "    sh2_tbl1 = ExcelTable(wsheet, 'sh2_tbl1', ws_range, fmls, values, recalc=True)\n",
    "    # m_sh2_tbl1 = sh2_tbl1.minimun_table()\n",
    "\n",
    "    # Tabla 2\n",
    "    ws_range = [\"F13:H17\", \"E12:H17\"][case]\n",
    "    fmls, values = data_in_range(ws, ws_range)\n",
    "    sh2_tbl2 = ExcelTable(wsheet, 'sh2_tbl2', ws_range, fmls, values, recalc=True)\n",
    "    # m_sh2_tbl2 = sh2_tbl2.minimun_table()\n",
    "\n",
    "    ws_name = \"Outer links, outer parameter\"\n",
    "    ws = wb[ws_name]\n",
    "    wsheet = excel_wb.create_worksheet(ws_name)\n",
    "\n",
    "    # Tabla 1\n",
    "    ws_range = [\"F3:H8\", \"E2:H8\"][case]\n",
    "    fmls, values = data_in_range(ws, ws_range)\n",
    "    sh3_tbl1 = ExcelTable(wsheet, 'sh3_tbl1', ws_range, fmls, values, recalc=True)\n",
    "    # m_sh3_tbl1 = sh3_tbl1.minimun_table()\n",
    "\n",
    "    wb.close()\n",
    "    return excel_wb\n"
   ]
  },
  {
   "cell_type": "code",
   "execution_count": 15,
   "metadata": {},
   "outputs": [],
   "source": [
    "wb = base_workbook(1)"
   ]
  },
  {
   "cell_type": "code",
   "execution_count": 16,
   "metadata": {},
   "outputs": [
    {
     "data": {
      "text/html": [
       "<div>\n",
       "<style scoped>\n",
       "    .dataframe tbody tr th:only-of-type {\n",
       "        vertical-align: middle;\n",
       "    }\n",
       "\n",
       "    .dataframe tbody tr th {\n",
       "        vertical-align: top;\n",
       "    }\n",
       "\n",
       "    .dataframe thead th {\n",
       "        text-align: right;\n",
       "    }\n",
       "</style>\n",
       "<table border=\"1\" class=\"dataframe\">\n",
       "  <thead>\n",
       "    <tr style=\"text-align: right;\">\n",
       "      <th>col</th>\n",
       "      <th>E</th>\n",
       "      <th>F</th>\n",
       "      <th>G</th>\n",
       "      <th>H</th>\n",
       "    </tr>\n",
       "    <tr>\n",
       "      <th>row</th>\n",
       "      <th></th>\n",
       "      <th></th>\n",
       "      <th></th>\n",
       "      <th></th>\n",
       "    </tr>\n",
       "  </thead>\n",
       "  <tbody>\n",
       "    <tr>\n",
       "      <th>2</th>\n",
       "      <td></td>\n",
       "      <td></td>\n",
       "      <td>0</td>\n",
       "      <td></td>\n",
       "    </tr>\n",
       "    <tr>\n",
       "      <th>3</th>\n",
       "      <td>tabla 1:</td>\n",
       "      <td></td>\n",
       "      <td></td>\n",
       "      <td></td>\n",
       "    </tr>\n",
       "    <tr>\n",
       "      <th>4</th>\n",
       "      <td>l1</td>\n",
       "      <td>700</td>\n",
       "      <td>250</td>\n",
       "      <td>950</td>\n",
       "    </tr>\n",
       "    <tr>\n",
       "      <th>5</th>\n",
       "      <td>l2</td>\n",
       "      <td>1200</td>\n",
       "      <td>230</td>\n",
       "      <td>1430</td>\n",
       "    </tr>\n",
       "    <tr>\n",
       "      <th>6</th>\n",
       "      <td>l3</td>\n",
       "      <td>340</td>\n",
       "      <td>100</td>\n",
       "      <td>440</td>\n",
       "    </tr>\n",
       "    <tr>\n",
       "      <th>7</th>\n",
       "      <td>l4</td>\n",
       "      <td>128</td>\n",
       "      <td>85</td>\n",
       "      <td>213</td>\n",
       "    </tr>\n",
       "    <tr>\n",
       "      <th>8</th>\n",
       "      <td>l5</td>\n",
       "      <td>45</td>\n",
       "      <td>18</td>\n",
       "      <td>63</td>\n",
       "    </tr>\n",
       "    <tr>\n",
       "      <th>9</th>\n",
       "      <td></td>\n",
       "      <td>2413</td>\n",
       "      <td>683</td>\n",
       "      <td>3096</td>\n",
       "    </tr>\n",
       "    <tr>\n",
       "      <th>10</th>\n",
       "      <td></td>\n",
       "      <td></td>\n",
       "      <td></td>\n",
       "      <td></td>\n",
       "    </tr>\n",
       "    <tr>\n",
       "      <th>11</th>\n",
       "      <td></td>\n",
       "      <td></td>\n",
       "      <td></td>\n",
       "      <td></td>\n",
       "    </tr>\n",
       "    <tr>\n",
       "      <th>12</th>\n",
       "      <td>tabla2:</td>\n",
       "      <td></td>\n",
       "      <td></td>\n",
       "      <td></td>\n",
       "    </tr>\n",
       "    <tr>\n",
       "      <th>13</th>\n",
       "      <td>l1</td>\n",
       "      <td>25</td>\n",
       "      <td>100</td>\n",
       "      <td>0</td>\n",
       "    </tr>\n",
       "    <tr>\n",
       "      <th>14</th>\n",
       "      <td>l2</td>\n",
       "      <td>10</td>\n",
       "      <td>25</td>\n",
       "      <td>35</td>\n",
       "    </tr>\n",
       "    <tr>\n",
       "      <th>15</th>\n",
       "      <td>l3</td>\n",
       "      <td>15</td>\n",
       "      <td>38</td>\n",
       "      <td>53</td>\n",
       "    </tr>\n",
       "    <tr>\n",
       "      <th>16</th>\n",
       "      <td>l4</td>\n",
       "      <td>80</td>\n",
       "      <td>2438</td>\n",
       "      <td>2518</td>\n",
       "    </tr>\n",
       "    <tr>\n",
       "      <th>17</th>\n",
       "      <td></td>\n",
       "      <td>105</td>\n",
       "      <td>2501</td>\n",
       "      <td>2606</td>\n",
       "    </tr>\n",
       "  </tbody>\n",
       "</table>\n",
       "</div>"
      ],
      "text/plain": [
       "<excel_workbook.ExcelWorksheet at 0x192bf0df2e0>"
      ]
     },
     "execution_count": 16,
     "metadata": {},
     "output_type": "execute_result"
    }
   ],
   "source": [
    "wb.sheets[1]"
   ]
  },
  {
   "cell_type": "code",
   "execution_count": 17,
   "metadata": {},
   "outputs": [],
   "source": [
    "ws = wb.sheets[1]\n",
    "tbl = ws.tables[1]\n",
    "df = tbl.data"
   ]
  },
  {
   "cell_type": "code",
   "execution_count": 18,
   "metadata": {},
   "outputs": [
    {
     "data": {
      "text/plain": [
       "fml           ='sheet1'!A6 + B11\n",
       "dependents              {B8, B6}\n",
       "res_order                      1\n",
       "ftype                          $\n",
       "value                       2438\n",
       "code                          B5\n",
       "Name: G16, dtype: object"
      ]
     },
     "execution_count": 18,
     "metadata": {},
     "output_type": "execute_result"
    }
   ],
   "source": [
    "df.loc['G16']"
   ]
  },
  {
   "cell_type": "code",
   "execution_count": 20,
   "metadata": {},
   "outputs": [],
   "source": [
    "field = 'fml'\n",
    "# values = dict(F13='=+F15+F12', G12='=+E12&F12')   # Fórmula con referencia a celda vacía.\n",
    "# values = dict(F13='=F5 + G13', F15='=+F14+G14')   # Creación de nuevo enlace externno\n",
    "# values = dict(H13='=+$G$2*F13 + 75', F17='=+F16+F15+2*F14', G16='=F9 + F13 + F14')  # Cambiar fórmulas en celdas existentes  \n",
    "# values = dict(F12='=1+2', G12='=G14+F17', H12='=F12+G12')  # Asignar fórmulas en celdas vacías \n",
    "# values = dict(F13='=1+2', G14='=F13+G15')  # Asignar fórmulas en celdas con valores\n",
    "\n",
    "field = 'value'\n",
    "# values = dict(F13=55, F15=80, G15=22)  # Cambiar valores en celdas existentes  \n",
    "# values = dict(F12=35, G12=80, H12=22)  # Asignar valores en celdas vacías \n",
    "values = dict(G16=333, H13=222)  # Asignar valores en celdas con fórmulas\n",
    "\n"
   ]
  },
  {
   "cell_type": "code",
   "execution_count": 21,
   "metadata": {},
   "outputs": [],
   "source": [
    "df1 = tbl.data\n",
    "set_records(tbl, values, field=field)\n",
    "df2 = tbl.data"
   ]
  },
  {
   "cell_type": "code",
   "execution_count": 11,
   "metadata": {},
   "outputs": [
    {
     "data": {
      "text/html": [
       "<div>\n",
       "<style scoped>\n",
       "    .dataframe tbody tr th:only-of-type {\n",
       "        vertical-align: middle;\n",
       "    }\n",
       "\n",
       "    .dataframe tbody tr th {\n",
       "        vertical-align: top;\n",
       "    }\n",
       "\n",
       "    .dataframe thead th {\n",
       "        text-align: right;\n",
       "    }\n",
       "</style>\n",
       "<table border=\"1\" class=\"dataframe\">\n",
       "  <thead>\n",
       "    <tr style=\"text-align: right;\">\n",
       "      <th>col</th>\n",
       "      <th>E</th>\n",
       "      <th>F</th>\n",
       "      <th>G</th>\n",
       "      <th>H</th>\n",
       "    </tr>\n",
       "    <tr>\n",
       "      <th>row</th>\n",
       "      <th></th>\n",
       "      <th></th>\n",
       "      <th></th>\n",
       "      <th></th>\n",
       "    </tr>\n",
       "  </thead>\n",
       "  <tbody>\n",
       "    <tr>\n",
       "      <th>12</th>\n",
       "      <td>tabla2:</td>\n",
       "      <td></td>\n",
       "      <td>tabla2:</td>\n",
       "      <td></td>\n",
       "    </tr>\n",
       "    <tr>\n",
       "      <th>13</th>\n",
       "      <td>l1</td>\n",
       "      <td>15</td>\n",
       "      <td>100</td>\n",
       "      <td>0</td>\n",
       "    </tr>\n",
       "    <tr>\n",
       "      <th>14</th>\n",
       "      <td>l2</td>\n",
       "      <td>10</td>\n",
       "      <td>25</td>\n",
       "      <td>35</td>\n",
       "    </tr>\n",
       "    <tr>\n",
       "      <th>15</th>\n",
       "      <td>l3</td>\n",
       "      <td>15</td>\n",
       "      <td>38</td>\n",
       "      <td>53</td>\n",
       "    </tr>\n",
       "    <tr>\n",
       "      <th>16</th>\n",
       "      <td>l4</td>\n",
       "      <td>80</td>\n",
       "      <td>2428</td>\n",
       "      <td>2508</td>\n",
       "    </tr>\n",
       "    <tr>\n",
       "      <th>17</th>\n",
       "      <td></td>\n",
       "      <td>105</td>\n",
       "      <td>2491</td>\n",
       "      <td>2596</td>\n",
       "    </tr>\n",
       "  </tbody>\n",
       "</table>\n",
       "</div>"
      ],
      "text/plain": [
       "<excel_workbook.ExcelTable at 0x183601473d0>"
      ]
     },
     "execution_count": 11,
     "metadata": {},
     "output_type": "execute_result"
    }
   ],
   "source": [
    "tbl"
   ]
  },
  {
   "cell_type": "code",
   "execution_count": null,
   "metadata": {},
   "outputs": [],
   "source": [
    "tbl.get_formula('F12:H17')"
   ]
  },
  {
   "cell_type": "code",
   "execution_count": null,
   "metadata": {},
   "outputs": [],
   "source": [
    "df.dependents.apply(\n",
    "    lambda x: set(tbl.encoder('decode', code) for code in x) if isinstance(x, set) else ''\n",
    "    )"
   ]
  },
  {
   "cell_type": "code",
   "execution_count": null,
   "metadata": {},
   "outputs": [],
   "source": [
    "excel_slice = tbl._cell_rgn(tbl.data_rng)\n",
    "tbl.get_formula(tbl.data_rng)"
   ]
  },
  {
   "cell_type": "code",
   "execution_count": 84,
   "metadata": {},
   "outputs": [],
   "source": [
    "class TableComparator:\n",
    "\n",
    "    def __init__(self, df):\n",
    "        df.loc[:,'dependents'] = df.dependents.apply(lambda items: str(items))\n",
    "        self.df = df\n",
    "\n",
    "    def difference(self, other, fields=None):\n",
    "        x = self.symmetric_difference(other, fields=fields)\n",
    "        df = x.iloc[range(0, len(x), 2)]\n",
    "        return df\n",
    "    \n",
    "    def symmetric_difference(self, other, fields=None):\n",
    "        s = self ^ other\n",
    "        if fields:\n",
    "            df = s.drop_duplicates(subset=fields, keep=False)\n",
    "        return df\n",
    "\n",
    "    def __or__(self, other):\n",
    "        df = (\n",
    "            pd.concat([self.df, other.df])\n",
    "            .drop_duplicates()\n",
    "            .sort_index()\n",
    "        )\n",
    "        return df\n",
    "    \n",
    "    def __and__(self, other):\n",
    "        u = self | other\n",
    "        mask = u.index.value_counts() == 1\n",
    "        df = u.loc[mask]\n",
    "        return df\n",
    "    \n",
    "    def __sub__(self, other):\n",
    "        x = self ^ other\n",
    "        df = x.iloc[range(0, len(x), 2)]\n",
    "        return df\n",
    "    \n",
    "    def __xor__(self, other):\n",
    "        u = self | other\n",
    "        mask = u.index.value_counts() == 2\n",
    "        df = u.loc[mask]\n",
    "        return df\n",
    "    \n",
    "    def __eq__(self, other):\n",
    "        df = self ^ other\n",
    "        return len(df) == 0"
   ]
  },
  {
   "cell_type": "code",
   "execution_count": 85,
   "metadata": {},
   "outputs": [],
   "source": [
    "P = pd.DataFrame ({\"name\":[\"Elizabeth\",\"Darcy\"],\n",
    "        \"email\":[\"bennet@xyz.com\",\"darcy@acmecorpus.com\"]}).set_index(\"email\")\n",
    "\n",
    "S = pd.DataFrame ({\"name\":[\"Bingley\",\"Elizabeth\"],\n",
    "        \"email\": [\"bingley@xyz.com\",\"bennet@xyz.com\"]}).set_index(\"email\")"
   ]
  },
  {
   "cell_type": "code",
   "execution_count": 86,
   "metadata": {},
   "outputs": [],
   "source": [
    "df1 = TableComparator(df1.df)\n",
    "df2 = TableComparator(df2.df)"
   ]
  },
  {
   "cell_type": "code",
   "execution_count": 94,
   "metadata": {},
   "outputs": [
    {
     "data": {
      "text/html": [
       "<div>\n",
       "<style scoped>\n",
       "    .dataframe tbody tr th:only-of-type {\n",
       "        vertical-align: middle;\n",
       "    }\n",
       "\n",
       "    .dataframe tbody tr th {\n",
       "        vertical-align: top;\n",
       "    }\n",
       "\n",
       "    .dataframe thead th {\n",
       "        text-align: right;\n",
       "    }\n",
       "</style>\n",
       "<table border=\"1\" class=\"dataframe\">\n",
       "  <thead>\n",
       "    <tr style=\"text-align: right;\">\n",
       "      <th></th>\n",
       "      <th>fml</th>\n",
       "      <th>dependents</th>\n",
       "      <th>res_order</th>\n",
       "      <th>ftype</th>\n",
       "      <th>value</th>\n",
       "      <th>code</th>\n",
       "    </tr>\n",
       "    <tr>\n",
       "      <th>cell</th>\n",
       "      <th></th>\n",
       "      <th></th>\n",
       "      <th></th>\n",
       "      <th></th>\n",
       "      <th></th>\n",
       "      <th></th>\n",
       "    </tr>\n",
       "  </thead>\n",
       "  <tbody>\n",
       "    <tr>\n",
       "      <th>F13</th>\n",
       "      <td>=+B15+B25</td>\n",
       "      <td>{'B2', 'B5'}</td>\n",
       "      <td>1.0</td>\n",
       "      <td>$</td>\n",
       "      <td>15</td>\n",
       "      <td>B12</td>\n",
       "    </tr>\n",
       "  </tbody>\n",
       "</table>\n",
       "</div>"
      ],
      "text/plain": [
       "            fml    dependents  res_order ftype value code\n",
       "cell                                                     \n",
       "F13   =+B15+B25  {'B2', 'B5'}        1.0     $    15  B12"
      ]
     },
     "execution_count": 94,
     "metadata": {},
     "output_type": "execute_result"
    }
   ],
   "source": [
    "df2.symmetric_difference(df1, ['fml'])"
   ]
  },
  {
   "cell_type": "code",
   "execution_count": 88,
   "metadata": {},
   "outputs": [
    {
     "data": {
      "text/html": [
       "<div>\n",
       "<style scoped>\n",
       "    .dataframe tbody tr th:only-of-type {\n",
       "        vertical-align: middle;\n",
       "    }\n",
       "\n",
       "    .dataframe tbody tr th {\n",
       "        vertical-align: top;\n",
       "    }\n",
       "\n",
       "    .dataframe thead th {\n",
       "        text-align: right;\n",
       "    }\n",
       "</style>\n",
       "<table border=\"1\" class=\"dataframe\">\n",
       "  <thead>\n",
       "    <tr style=\"text-align: right;\">\n",
       "      <th></th>\n",
       "      <th>fml</th>\n",
       "      <th>dependents</th>\n",
       "      <th>res_order</th>\n",
       "      <th>ftype</th>\n",
       "      <th>value</th>\n",
       "      <th>code</th>\n",
       "    </tr>\n",
       "    <tr>\n",
       "      <th>cell</th>\n",
       "      <th></th>\n",
       "      <th></th>\n",
       "      <th></th>\n",
       "      <th></th>\n",
       "      <th></th>\n",
       "      <th></th>\n",
       "    </tr>\n",
       "  </thead>\n",
       "  <tbody>\n",
       "    <tr>\n",
       "      <th>E12</th>\n",
       "      <td>None</td>\n",
       "      <td>None</td>\n",
       "      <td>0.0</td>\n",
       "      <td>$</td>\n",
       "      <td>tabla2:</td>\n",
       "      <td>B22</td>\n",
       "    </tr>\n",
       "    <tr>\n",
       "      <th>E12</th>\n",
       "      <td>None</td>\n",
       "      <td>{'B24'}</td>\n",
       "      <td>0.0</td>\n",
       "      <td>$</td>\n",
       "      <td>tabla2:</td>\n",
       "      <td>B22</td>\n",
       "    </tr>\n",
       "    <tr>\n",
       "      <th>F13</th>\n",
       "      <td>NaN</td>\n",
       "      <td>{'B2', 'B5'}</td>\n",
       "      <td>0.0</td>\n",
       "      <td>#</td>\n",
       "      <td>25</td>\n",
       "      <td>B12</td>\n",
       "    </tr>\n",
       "    <tr>\n",
       "      <th>F13</th>\n",
       "      <td>=+B15+B25</td>\n",
       "      <td>{'B2', 'B5'}</td>\n",
       "      <td>1.0</td>\n",
       "      <td>$</td>\n",
       "      <td>15</td>\n",
       "      <td>B12</td>\n",
       "    </tr>\n",
       "    <tr>\n",
       "      <th>F15</th>\n",
       "      <td>NaN</td>\n",
       "      <td>{'B4', 'B7'}</td>\n",
       "      <td>0.0</td>\n",
       "      <td>#</td>\n",
       "      <td>15</td>\n",
       "      <td>B15</td>\n",
       "    </tr>\n",
       "    <tr>\n",
       "      <th>F15</th>\n",
       "      <td>NaN</td>\n",
       "      <td>{'B4', 'B12', 'B7'}</td>\n",
       "      <td>0.0</td>\n",
       "      <td>#</td>\n",
       "      <td>15</td>\n",
       "      <td>B15</td>\n",
       "    </tr>\n",
       "    <tr>\n",
       "      <th>G16</th>\n",
       "      <td>='sheet1'!A6 + B12</td>\n",
       "      <td>{'B6', 'B8'}</td>\n",
       "      <td>1.0</td>\n",
       "      <td>$</td>\n",
       "      <td>2438</td>\n",
       "      <td>B5</td>\n",
       "    </tr>\n",
       "    <tr>\n",
       "      <th>G16</th>\n",
       "      <td>='sheet1'!A6 + B12</td>\n",
       "      <td>{'B6', 'B8'}</td>\n",
       "      <td>1.0</td>\n",
       "      <td>$</td>\n",
       "      <td>2428</td>\n",
       "      <td>B5</td>\n",
       "    </tr>\n",
       "    <tr>\n",
       "      <th>G17</th>\n",
       "      <td>=B5+B16+B14</td>\n",
       "      <td>nan</td>\n",
       "      <td>2.0</td>\n",
       "      <td>$</td>\n",
       "      <td>2491</td>\n",
       "      <td>B8</td>\n",
       "    </tr>\n",
       "    <tr>\n",
       "      <th>G17</th>\n",
       "      <td>=B5+B16+B14</td>\n",
       "      <td>nan</td>\n",
       "      <td>2.0</td>\n",
       "      <td>$</td>\n",
       "      <td>2501</td>\n",
       "      <td>B8</td>\n",
       "    </tr>\n",
       "    <tr>\n",
       "      <th>H16</th>\n",
       "      <td>=SUM(B18:B5)</td>\n",
       "      <td>{'B9'}</td>\n",
       "      <td>2.0</td>\n",
       "      <td>$</td>\n",
       "      <td>2518</td>\n",
       "      <td>B6</td>\n",
       "    </tr>\n",
       "    <tr>\n",
       "      <th>H16</th>\n",
       "      <td>=SUM(B18:B5)</td>\n",
       "      <td>{'B9'}</td>\n",
       "      <td>2.0</td>\n",
       "      <td>$</td>\n",
       "      <td>2508</td>\n",
       "      <td>B6</td>\n",
       "    </tr>\n",
       "    <tr>\n",
       "      <th>H17</th>\n",
       "      <td>=B6+B4+B3</td>\n",
       "      <td>nan</td>\n",
       "      <td>3.0</td>\n",
       "      <td>$</td>\n",
       "      <td>2606</td>\n",
       "      <td>B9</td>\n",
       "    </tr>\n",
       "    <tr>\n",
       "      <th>H17</th>\n",
       "      <td>=B6+B4+B3</td>\n",
       "      <td>nan</td>\n",
       "      <td>3.0</td>\n",
       "      <td>$</td>\n",
       "      <td>2596</td>\n",
       "      <td>B9</td>\n",
       "    </tr>\n",
       "  </tbody>\n",
       "</table>\n",
       "</div>"
      ],
      "text/plain": [
       "                     fml           dependents  res_order ftype    value code\n",
       "cell                                                                        \n",
       "E12                 None                 None        0.0     $  tabla2:  B22\n",
       "E12                 None              {'B24'}        0.0     $  tabla2:  B22\n",
       "F13                  NaN         {'B2', 'B5'}        0.0     #       25  B12\n",
       "F13            =+B15+B25         {'B2', 'B5'}        1.0     $       15  B12\n",
       "F15                  NaN         {'B4', 'B7'}        0.0     #       15  B15\n",
       "F15                  NaN  {'B4', 'B12', 'B7'}        0.0     #       15  B15\n",
       "G16   ='sheet1'!A6 + B12         {'B6', 'B8'}        1.0     $     2438   B5\n",
       "G16   ='sheet1'!A6 + B12         {'B6', 'B8'}        1.0     $     2428   B5\n",
       "G17          =B5+B16+B14                  nan        2.0     $     2491   B8\n",
       "G17          =B5+B16+B14                  nan        2.0     $     2501   B8\n",
       "H16         =SUM(B18:B5)               {'B9'}        2.0     $     2518   B6\n",
       "H16         =SUM(B18:B5)               {'B9'}        2.0     $     2508   B6\n",
       "H17            =B6+B4+B3                  nan        3.0     $     2606   B9\n",
       "H17            =B6+B4+B3                  nan        3.0     $     2596   B9"
      ]
     },
     "execution_count": 88,
     "metadata": {},
     "output_type": "execute_result"
    }
   ],
   "source": [
    "df2 ^ df1"
   ]
  },
  {
   "cell_type": "code",
   "execution_count": null,
   "metadata": {},
   "outputs": [],
   "source": []
  },
  {
   "cell_type": "code",
   "execution_count": 43,
   "metadata": {},
   "outputs": [],
   "source": [
    "df1.df.loc[:,'dependents'] = df1.df.dependents.apply(lambda items: str(items))\n",
    "df2.df.loc[:, 'dependents'] = df2.df.dependents.apply(lambda items: str(items))\n",
    "# df1.df"
   ]
  },
  {
   "cell_type": "code",
   "execution_count": 60,
   "metadata": {},
   "outputs": [],
   "source": [
    "u = pd.concat([df1.df, df2.df]).drop_duplicates().sort_index()"
   ]
  },
  {
   "cell_type": "code",
   "execution_count": 63,
   "metadata": {},
   "outputs": [],
   "source": [
    "mask = u.index.value_counts() == 1\n",
    "i = u.loc[mask]"
   ]
  },
  {
   "cell_type": "code",
   "execution_count": 70,
   "metadata": {},
   "outputs": [
    {
     "data": {
      "text/html": [
       "<div>\n",
       "<style scoped>\n",
       "    .dataframe tbody tr th:only-of-type {\n",
       "        vertical-align: middle;\n",
       "    }\n",
       "\n",
       "    .dataframe tbody tr th {\n",
       "        vertical-align: top;\n",
       "    }\n",
       "\n",
       "    .dataframe thead th {\n",
       "        text-align: right;\n",
       "    }\n",
       "</style>\n",
       "<table border=\"1\" class=\"dataframe\">\n",
       "  <thead>\n",
       "    <tr style=\"text-align: right;\">\n",
       "      <th></th>\n",
       "      <th>fml</th>\n",
       "      <th>dependents</th>\n",
       "      <th>res_order</th>\n",
       "      <th>ftype</th>\n",
       "      <th>value</th>\n",
       "      <th>code</th>\n",
       "    </tr>\n",
       "    <tr>\n",
       "      <th>cell</th>\n",
       "      <th></th>\n",
       "      <th></th>\n",
       "      <th></th>\n",
       "      <th></th>\n",
       "      <th></th>\n",
       "      <th></th>\n",
       "    </tr>\n",
       "  </thead>\n",
       "  <tbody>\n",
       "    <tr>\n",
       "      <th>E12</th>\n",
       "      <td>None</td>\n",
       "      <td>{'B24'}</td>\n",
       "      <td>0.0</td>\n",
       "      <td>$</td>\n",
       "      <td>tabla2:</td>\n",
       "      <td>B22</td>\n",
       "    </tr>\n",
       "    <tr>\n",
       "      <th>F13</th>\n",
       "      <td>=+B15+B25</td>\n",
       "      <td>{'B2', 'B5'}</td>\n",
       "      <td>1.0</td>\n",
       "      <td>$</td>\n",
       "      <td>15</td>\n",
       "      <td>B12</td>\n",
       "    </tr>\n",
       "    <tr>\n",
       "      <th>F15</th>\n",
       "      <td>NaN</td>\n",
       "      <td>{'B4', 'B12', 'B7'}</td>\n",
       "      <td>0.0</td>\n",
       "      <td>#</td>\n",
       "      <td>15</td>\n",
       "      <td>B15</td>\n",
       "    </tr>\n",
       "    <tr>\n",
       "      <th>G16</th>\n",
       "      <td>='sheet1'!A6 + B12</td>\n",
       "      <td>{'B6', 'B8'}</td>\n",
       "      <td>1.0</td>\n",
       "      <td>$</td>\n",
       "      <td>2428</td>\n",
       "      <td>B5</td>\n",
       "    </tr>\n",
       "    <tr>\n",
       "      <th>G17</th>\n",
       "      <td>=B5+B16+B14</td>\n",
       "      <td>nan</td>\n",
       "      <td>2.0</td>\n",
       "      <td>$</td>\n",
       "      <td>2491</td>\n",
       "      <td>B8</td>\n",
       "    </tr>\n",
       "    <tr>\n",
       "      <th>H16</th>\n",
       "      <td>=SUM(B18:B5)</td>\n",
       "      <td>{'B9'}</td>\n",
       "      <td>2.0</td>\n",
       "      <td>$</td>\n",
       "      <td>2508</td>\n",
       "      <td>B6</td>\n",
       "    </tr>\n",
       "    <tr>\n",
       "      <th>H17</th>\n",
       "      <td>=B6+B4+B3</td>\n",
       "      <td>nan</td>\n",
       "      <td>3.0</td>\n",
       "      <td>$</td>\n",
       "      <td>2596</td>\n",
       "      <td>B9</td>\n",
       "    </tr>\n",
       "  </tbody>\n",
       "</table>\n",
       "</div>"
      ],
      "text/plain": [
       "                     fml           dependents  res_order ftype    value code\n",
       "cell                                                                        \n",
       "E12                 None              {'B24'}        0.0     $  tabla2:  B22\n",
       "F13            =+B15+B25         {'B2', 'B5'}        1.0     $       15  B12\n",
       "F15                  NaN  {'B4', 'B12', 'B7'}        0.0     #       15  B15\n",
       "G16   ='sheet1'!A6 + B12         {'B6', 'B8'}        1.0     $     2428   B5\n",
       "G17          =B5+B16+B14                  nan        2.0     $     2491   B8\n",
       "H16         =SUM(B18:B5)               {'B9'}        2.0     $     2508   B6\n",
       "H17            =B6+B4+B3                  nan        3.0     $     2596   B9"
      ]
     },
     "execution_count": 70,
     "metadata": {},
     "output_type": "execute_result"
    }
   ],
   "source": [
    "mask = u.index.value_counts() == 2\n",
    "u.loc[mask].iloc[range(0, len(u.loc[mask]), 2)]"
   ]
  },
  {
   "cell_type": "code",
   "execution_count": 18,
   "metadata": {},
   "outputs": [
    {
     "data": {
      "text/plain": [
       "fml           ='sheet1'!A6 + B12\n",
       "dependents              {B6, B8}\n",
       "res_order                      1\n",
       "ftype                          $\n",
       "value                       2438\n",
       "code                          B5\n",
       "Name: G16, dtype: object"
      ]
     },
     "execution_count": 18,
     "metadata": {},
     "output_type": "execute_result"
    }
   ],
   "source": [
    "df1.df.loc['G16']"
   ]
  },
  {
   "cell_type": "code",
   "execution_count": 19,
   "metadata": {},
   "outputs": [
    {
     "data": {
      "text/plain": [
       "fml           ='sheet1'!A6 + B12\n",
       "dependents              {B6, B8}\n",
       "res_order                      1\n",
       "ftype                          $\n",
       "value                       2428\n",
       "code                          B5\n",
       "Name: G16, dtype: object"
      ]
     },
     "execution_count": 19,
     "metadata": {},
     "output_type": "execute_result"
    }
   ],
   "source": [
    "df2.df.loc['G16']"
   ]
  },
  {
   "cell_type": "code",
   "execution_count": 98,
   "metadata": {},
   "outputs": [
    {
     "data": {
      "text/html": [
       "<div>\n",
       "<style scoped>\n",
       "    .dataframe tbody tr th:only-of-type {\n",
       "        vertical-align: middle;\n",
       "    }\n",
       "\n",
       "    .dataframe tbody tr th {\n",
       "        vertical-align: top;\n",
       "    }\n",
       "\n",
       "    .dataframe thead th {\n",
       "        text-align: right;\n",
       "    }\n",
       "</style>\n",
       "<table border=\"1\" class=\"dataframe\">\n",
       "  <thead>\n",
       "    <tr style=\"text-align: right;\">\n",
       "      <th></th>\n",
       "      <th>fml</th>\n",
       "      <th>dependents</th>\n",
       "      <th>res_order</th>\n",
       "      <th>ftype</th>\n",
       "      <th>value</th>\n",
       "      <th>code</th>\n",
       "    </tr>\n",
       "    <tr>\n",
       "      <th>cell</th>\n",
       "      <th></th>\n",
       "      <th></th>\n",
       "      <th></th>\n",
       "      <th></th>\n",
       "      <th></th>\n",
       "      <th></th>\n",
       "    </tr>\n",
       "  </thead>\n",
       "  <tbody>\n",
       "  </tbody>\n",
       "</table>\n",
       "</div>"
      ],
      "text/plain": [
       "Empty DataFrame\n",
       "Columns: [fml, dependents, res_order, ftype, value, code]\n",
       "Index: []"
      ]
     },
     "execution_count": 98,
     "metadata": {},
     "output_type": "execute_result"
    }
   ],
   "source": [
    "(\n",
    "    pd.DataFrame(\n",
    "    index=pd.Index([], name='cell', dtype=str),\n",
    "    columns=TABLE_DATA_MAP.keys()\n",
    "    )\n",
    "    .astype(TABLE_DATA_MAP)\n",
    ")\n"
   ]
  },
  {
   "cell_type": "code",
   "execution_count": 110,
   "metadata": {},
   "outputs": [],
   "source": [
    "from typing import Dict, List, TypedDict\n",
    "import pandas as pd\n",
    "\n",
    "# Define a TypedDict for the column names and their corresponding data types\n",
    "class ColumnSpec(TypedDict):\n",
    "    column_name: type\n",
    "\n",
    "# Define a TypedDict for the structure of the DataFrame\n",
    "class DataFrameStructure(TypedDict):\n",
    "    index: List[type]  # List of types for the index\n",
    "    columns: Dict[str, ColumnSpec]  # Dictionary of column names and their types\n",
    "\n",
    "# Example structure definition\n",
    "structure: DataFrameStructure = {\n",
    "    'index': [int],  # Example: Index should be integers\n",
    "    'columns': {\n",
    "        'column1': int,\n",
    "        'column2': str,\n",
    "        'column3': float\n",
    "    }\n",
    "}\n"
   ]
  },
  {
   "cell_type": "code",
   "execution_count": 112,
   "metadata": {},
   "outputs": [
    {
     "data": {
      "text/plain": [
       "__main__.ColumnSpec"
      ]
     },
     "execution_count": 112,
     "metadata": {},
     "output_type": "execute_result"
    }
   ],
   "source": [
    "ColumnSpec"
   ]
  },
  {
   "cell_type": "code",
   "execution_count": 103,
   "metadata": {},
   "outputs": [
    {
     "name": "stdout",
     "output_type": "stream",
     "text": [
      "column1      int64\n",
      "column2     object\n",
      "column3    float64\n",
      "dtype: object\n"
     ]
    }
   ],
   "source": [
    "\n",
    "# Create a function to create DataFrame with specified structure\n",
    "def create_dataframe(structure: DataFrameStructure) -> pd.DataFrame:\n",
    "    # Create empty DataFrame with specified index and columns\n",
    "    df = pd.DataFrame(index=pd.Index([], dtype=structure['index'][0]),\n",
    "                      columns=structure['columns'].keys())\n",
    "    \n",
    "    # Set column types\n",
    "    for col, col_type in structure['columns'].items():\n",
    "        df[col] = df[col].astype(col_type)\n",
    "    \n",
    "    return df\n",
    "\n",
    "# Example usage:\n",
    "df = create_dataframe(structure)\n",
    "print(df.dtypes)  # Print data types of the DataFrame\n"
   ]
  },
  {
   "cell_type": "code",
   "execution_count": 109,
   "metadata": {},
   "outputs": [
    {
     "data": {
      "text/plain": [
       "Index([], dtype='int64')"
      ]
     },
     "execution_count": 109,
     "metadata": {},
     "output_type": "execute_result"
    }
   ],
   "source": [
    "df.index"
   ]
  },
  {
   "cell_type": "code",
   "execution_count": null,
   "metadata": {},
   "outputs": [],
   "source": []
  },
  {
   "cell_type": "code",
   "execution_count": null,
   "metadata": {},
   "outputs": [],
   "source": []
  },
  {
   "cell_type": "code",
   "execution_count": null,
   "metadata": {},
   "outputs": [],
   "source": []
  },
  {
   "cell_type": "code",
   "execution_count": 83,
   "metadata": {},
   "outputs": [
    {
     "data": {
      "text/html": [
       "<div>\n",
       "<style scoped>\n",
       "    .dataframe tbody tr th:only-of-type {\n",
       "        vertical-align: middle;\n",
       "    }\n",
       "\n",
       "    .dataframe tbody tr th {\n",
       "        vertical-align: top;\n",
       "    }\n",
       "\n",
       "    .dataframe thead th {\n",
       "        text-align: right;\n",
       "    }\n",
       "</style>\n",
       "<table border=\"1\" class=\"dataframe\">\n",
       "  <thead>\n",
       "    <tr style=\"text-align: right;\">\n",
       "      <th></th>\n",
       "      <th>name</th>\n",
       "    </tr>\n",
       "    <tr>\n",
       "      <th>email</th>\n",
       "      <th></th>\n",
       "    </tr>\n",
       "  </thead>\n",
       "  <tbody>\n",
       "    <tr>\n",
       "      <th>bingley@xyz.com</th>\n",
       "      <td>Bingley</td>\n",
       "    </tr>\n",
       "    <tr>\n",
       "      <th>bennet@xyz.com</th>\n",
       "      <td>Elizabeth</td>\n",
       "    </tr>\n",
       "  </tbody>\n",
       "</table>\n",
       "</div>"
      ],
      "text/plain": [
       "                      name\n",
       "email                     \n",
       "bingley@xyz.com    Bingley\n",
       "bennet@xyz.com   Elizabeth"
      ]
     },
     "execution_count": 83,
     "metadata": {},
     "output_type": "execute_result"
    }
   ],
   "source": [
    "S"
   ]
  },
  {
   "cell_type": "code",
   "execution_count": 84,
   "metadata": {},
   "outputs": [
    {
     "data": {
      "text/plain": [
       "False"
      ]
     },
     "execution_count": 84,
     "metadata": {},
     "output_type": "execute_result"
    }
   ],
   "source": [
    "df1 == df2"
   ]
  },
  {
   "cell_type": "code",
   "execution_count": 78,
   "metadata": {},
   "outputs": [
    {
     "data": {
      "text/html": [
       "<div>\n",
       "<style scoped>\n",
       "    .dataframe tbody tr th:only-of-type {\n",
       "        vertical-align: middle;\n",
       "    }\n",
       "\n",
       "    .dataframe tbody tr th {\n",
       "        vertical-align: top;\n",
       "    }\n",
       "\n",
       "    .dataframe thead th {\n",
       "        text-align: right;\n",
       "    }\n",
       "</style>\n",
       "<table border=\"1\" class=\"dataframe\">\n",
       "  <thead>\n",
       "    <tr style=\"text-align: right;\">\n",
       "      <th></th>\n",
       "      <th>name</th>\n",
       "    </tr>\n",
       "    <tr>\n",
       "      <th>email</th>\n",
       "      <th></th>\n",
       "    </tr>\n",
       "  </thead>\n",
       "  <tbody>\n",
       "  </tbody>\n",
       "</table>\n",
       "</div>"
      ],
      "text/plain": [
       "Empty DataFrame\n",
       "Columns: [name]\n",
       "Index: []"
      ]
     },
     "execution_count": 78,
     "metadata": {},
     "output_type": "execute_result"
    }
   ],
   "source": [
    "\n",
    "df1 & DfComparator(d)"
   ]
  },
  {
   "cell_type": "code",
   "execution_count": null,
   "metadata": {},
   "outputs": [],
   "source": []
  },
  {
   "cell_type": "code",
   "execution_count": null,
   "metadata": {},
   "outputs": [],
   "source": []
  }
 ],
 "metadata": {
  "kernelspec": {
   "display_name": "excel-vZ5sKczD-py3.10",
   "language": "python",
   "name": "python3"
  },
  "language_info": {
   "codemirror_mode": {
    "name": "ipython",
    "version": 3
   },
   "file_extension": ".py",
   "mimetype": "text/x-python",
   "name": "python",
   "nbconvert_exporter": "python",
   "pygments_lexer": "ipython3",
   "version": "3.10.11"
  }
 },
 "nbformat": 4,
 "nbformat_minor": 2
}
