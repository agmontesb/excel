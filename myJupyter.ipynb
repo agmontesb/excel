{
 "cells": [
  {
   "cell_type": "code",
   "execution_count": 1,
   "metadata": {},
   "outputs": [],
   "source": [
    "import sys\n",
    "import os\n",
    "fname = r'C:\\Users\\agmontesb\\Documents\\GitHub\\excel\\tests\\test_base_workbook.py'\n",
    "sys.path.append(os.path.abspath(os.path.join(os.path.dirname(fname), '..')))"
   ]
  },
  {
   "cell_type": "code",
   "execution_count": 2,
   "metadata": {},
   "outputs": [],
   "source": [
    "import pytest\n",
    "import openpyxl as px\n",
    "import pandas as pd\n",
    "import itertools\n",
    "import collections\n",
    "\n",
    "from excel_workbook import (\n",
    "    ExcelWorkbook, ExcelTable, \n",
    "    cell_address, cell_pattern, \n",
    "    data_in_range, tbl_address, rgn_pattern,\n",
    "    XlErrors, TABLE_DATA_MAP, EMPTY_CELL, \n",
    "    tbl_pattern, rgn_pattern\n",
    "    )\n",
    "\n"
   ]
  },
  {
   "cell_type": "code",
   "execution_count": 3,
   "metadata": {},
   "outputs": [],
   "source": [
    "def base_workbook(case):\n",
    "    # Create a base workbook for testing\n",
    "    filename = r\"C:\\Users\\agmontesb\\Downloads\\excel_module_test.xlsx\"\n",
    "    wb = px.load_workbook(filename)\n",
    "\n",
    "    excel_wb = ExcelWorkbook('excel_module_test')\n",
    "\n",
    "    ws_name = \"No links, No parameters\"\n",
    "    ws = wb[ws_name]\n",
    "    wsheet = excel_wb.create_worksheet(ws_name)\n",
    "\n",
    "    # Tabla 1\n",
    "    ws_range = [\"G4:I9\", \"F3:I9\"][case]\n",
    "    fmls, values = data_in_range(ws, ws_range)\n",
    "    sh1_tbl1 = ExcelTable(wsheet, 'sh1_tbl1', ws_range, fmls, values, recalc=True)\n",
    "    # m_sh1_tbl1 = sh1_tbl1.minimun_table()\n",
    "\n",
    "    # Tabla 2\n",
    "    ws_range = [\"G11:H15\", \"F12:H15\"][case]\n",
    "    fmls, values = data_in_range(ws, ws_range)\n",
    "    sh1_tbl2 = ExcelTable(wsheet, 'sh1_tbl2', ws_range, fmls, values, recalc=True)\n",
    "    m_sh1_tbl2 = sh1_tbl2.minimun_table()\n",
    "\n",
    "    ws_name = \"Parameters and inner links\"\n",
    "    ws = wb[ws_name]\n",
    "    wsheet = excel_wb.create_worksheet(ws_name)\n",
    "\n",
    "    # Tabla 1\n",
    "    ws_range = [\"F4:H9\", \"E3:H9\"][case]\n",
    "    fmls, values = data_in_range(ws, ws_range)\n",
    "    sh2_tbl1 = ExcelTable(wsheet, 'sh2_tbl1', ws_range, fmls, values, recalc=True)\n",
    "    # m_sh2_tbl1 = sh2_tbl1.minimun_table()\n",
    "\n",
    "    # Tabla 2\n",
    "    ws_range = [\"F13:H17\", \"E12:H17\"][case]\n",
    "    fmls, values = data_in_range(ws, ws_range)\n",
    "    sh2_tbl2 = ExcelTable(wsheet, 'sh2_tbl2', ws_range, fmls, values, recalc=True)\n",
    "    # m_sh2_tbl2 = sh2_tbl2.minimun_table()\n",
    "\n",
    "    ws_name = \"Outer links, outer parameter\"\n",
    "    ws = wb[ws_name]\n",
    "    wsheet = excel_wb.create_worksheet(ws_name)\n",
    "\n",
    "    # Tabla 1\n",
    "    ws_range = [\"F3:H8\", \"E2:H8\"][case]\n",
    "    fmls, values = data_in_range(ws, ws_range)\n",
    "    sh3_tbl1 = ExcelTable(wsheet, 'sh3_tbl1', ws_range, fmls, values, recalc=True)\n",
    "    # m_sh3_tbl1 = sh3_tbl1.minimun_table()\n",
    "\n",
    "    wb.close()\n",
    "    return excel_wb\n"
   ]
  },
  {
   "cell_type": "code",
   "execution_count": 4,
   "metadata": {},
   "outputs": [],
   "source": [
    "wb = base_workbook(1)"
   ]
  },
  {
   "cell_type": "code",
   "execution_count": 5,
   "metadata": {},
   "outputs": [
    {
     "data": {
      "text/html": [
       "<div>\n",
       "<style scoped>\n",
       "    .dataframe tbody tr th:only-of-type {\n",
       "        vertical-align: middle;\n",
       "    }\n",
       "\n",
       "    .dataframe tbody tr th {\n",
       "        vertical-align: top;\n",
       "    }\n",
       "\n",
       "    .dataframe thead th {\n",
       "        text-align: right;\n",
       "    }\n",
       "</style>\n",
       "<table border=\"1\" class=\"dataframe\">\n",
       "  <thead>\n",
       "    <tr style=\"text-align: right;\">\n",
       "      <th>col</th>\n",
       "      <th>E</th>\n",
       "      <th>F</th>\n",
       "      <th>G</th>\n",
       "      <th>H</th>\n",
       "    </tr>\n",
       "    <tr>\n",
       "      <th>row</th>\n",
       "      <th></th>\n",
       "      <th></th>\n",
       "      <th></th>\n",
       "      <th></th>\n",
       "    </tr>\n",
       "  </thead>\n",
       "  <tbody>\n",
       "    <tr>\n",
       "      <th>2</th>\n",
       "      <td></td>\n",
       "      <td></td>\n",
       "      <td>0</td>\n",
       "      <td></td>\n",
       "    </tr>\n",
       "    <tr>\n",
       "      <th>3</th>\n",
       "      <td>tabla 1:</td>\n",
       "      <td></td>\n",
       "      <td></td>\n",
       "      <td></td>\n",
       "    </tr>\n",
       "    <tr>\n",
       "      <th>4</th>\n",
       "      <td>l1</td>\n",
       "      <td>700</td>\n",
       "      <td>250</td>\n",
       "      <td>950</td>\n",
       "    </tr>\n",
       "    <tr>\n",
       "      <th>5</th>\n",
       "      <td>l2</td>\n",
       "      <td>1200</td>\n",
       "      <td>230</td>\n",
       "      <td>1430</td>\n",
       "    </tr>\n",
       "    <tr>\n",
       "      <th>6</th>\n",
       "      <td>l3</td>\n",
       "      <td>340</td>\n",
       "      <td>100</td>\n",
       "      <td>440</td>\n",
       "    </tr>\n",
       "    <tr>\n",
       "      <th>7</th>\n",
       "      <td>l4</td>\n",
       "      <td>128</td>\n",
       "      <td>85</td>\n",
       "      <td>213</td>\n",
       "    </tr>\n",
       "    <tr>\n",
       "      <th>8</th>\n",
       "      <td>l5</td>\n",
       "      <td>45</td>\n",
       "      <td>18</td>\n",
       "      <td>63</td>\n",
       "    </tr>\n",
       "    <tr>\n",
       "      <th>9</th>\n",
       "      <td></td>\n",
       "      <td>2413</td>\n",
       "      <td>683</td>\n",
       "      <td>3096</td>\n",
       "    </tr>\n",
       "    <tr>\n",
       "      <th>10</th>\n",
       "      <td></td>\n",
       "      <td></td>\n",
       "      <td></td>\n",
       "      <td></td>\n",
       "    </tr>\n",
       "    <tr>\n",
       "      <th>11</th>\n",
       "      <td></td>\n",
       "      <td></td>\n",
       "      <td></td>\n",
       "      <td></td>\n",
       "    </tr>\n",
       "    <tr>\n",
       "      <th>12</th>\n",
       "      <td>tabla2:</td>\n",
       "      <td></td>\n",
       "      <td></td>\n",
       "      <td></td>\n",
       "    </tr>\n",
       "    <tr>\n",
       "      <th>13</th>\n",
       "      <td>l1</td>\n",
       "      <td>25</td>\n",
       "      <td>100</td>\n",
       "      <td>0</td>\n",
       "    </tr>\n",
       "    <tr>\n",
       "      <th>14</th>\n",
       "      <td>l2</td>\n",
       "      <td>10</td>\n",
       "      <td>25</td>\n",
       "      <td>35</td>\n",
       "    </tr>\n",
       "    <tr>\n",
       "      <th>15</th>\n",
       "      <td>l3</td>\n",
       "      <td>15</td>\n",
       "      <td>38</td>\n",
       "      <td>53</td>\n",
       "    </tr>\n",
       "    <tr>\n",
       "      <th>16</th>\n",
       "      <td>l4</td>\n",
       "      <td>80</td>\n",
       "      <td>2438</td>\n",
       "      <td>2518</td>\n",
       "    </tr>\n",
       "    <tr>\n",
       "      <th>17</th>\n",
       "      <td></td>\n",
       "      <td>105</td>\n",
       "      <td>2501</td>\n",
       "      <td>2606</td>\n",
       "    </tr>\n",
       "  </tbody>\n",
       "</table>\n",
       "</div>"
      ],
      "text/plain": [
       "<excel_workbook.ExcelWorksheet at 0x25bc330bc10>"
      ]
     },
     "execution_count": 5,
     "metadata": {},
     "output_type": "execute_result"
    }
   ],
   "source": [
    "wb.sheets[1]"
   ]
  },
  {
   "cell_type": "code",
   "execution_count": 6,
   "metadata": {},
   "outputs": [],
   "source": [
    "ws = wb.sheets[1]\n",
    "tbl = ws.tables[0]\n",
    "df = tbl.data"
   ]
  },
  {
   "cell_type": "code",
   "execution_count": 7,
   "metadata": {},
   "outputs": [],
   "source": [
    "dmy = ws.all_dependents({tbl:{f\"'{ws.id}'!{tbl.data.loc['G6'].code}\"}}, with_links=True)"
   ]
  },
  {
   "cell_type": "code",
   "execution_count": 15,
   "metadata": {},
   "outputs": [
    {
     "data": {
      "text/plain": [
       "[('F4', 'A9'),\n",
       " ('F5', 'A11'),\n",
       " ('F6', 'A14'),\n",
       " ('F7', 'A15'),\n",
       " ('F8', 'A17'),\n",
       " ('F9', 'A6'),\n",
       " ('G4', 'A10'),\n",
       " ('G5', 'A12'),\n",
       " ('G6', 'A13'),\n",
       " ('G7', 'A16'),\n",
       " ('G8', 'A18'),\n",
       " ('G9', 'A7'),\n",
       " ('H4', 'A1'),\n",
       " ('H5', 'A2'),\n",
       " ('H6', 'A3'),\n",
       " ('H7', 'A4'),\n",
       " ('H8', 'A5'),\n",
       " ('H9', 'A8'),\n",
       " ('E8', 'A19'),\n",
       " ('E6', 'A20'),\n",
       " ('E3', 'A21'),\n",
       " ('E5', 'A22'),\n",
       " ('E4', 'A23'),\n",
       " ('E7', 'A24')]"
      ]
     },
     "execution_count": 15,
     "metadata": {},
     "output_type": "execute_result"
    }
   ],
   "source": [
    "list(tbl.data.code.items())"
   ]
  },
  {
   "cell_type": "code",
   "execution_count": null,
   "metadata": {},
   "outputs": [],
   "source": [
    "dmy =  [1,2]\n",
    "dmy.extend({3, 4})\n",
    "dmy"
   ]
  },
  {
   "cell_type": "code",
   "execution_count": null,
   "metadata": {},
   "outputs": [],
   "source": [
    "keys = dmy.keys()\n",
    "[key.title for key in keys]"
   ]
  },
  {
   "cell_type": "code",
   "execution_count": null,
   "metadata": {},
   "outputs": [],
   "source": [
    "dmy[list(keys)[1]]"
   ]
  },
  {
   "cell_type": "code",
   "execution_count": null,
   "metadata": {},
   "outputs": [],
   "source": [
    "tbl = list(keys)[2]\n",
    "[tbl.encoder('decode', x.split('!')[-1]) for x in dmy[tbl]]"
   ]
  },
  {
   "cell_type": "code",
   "execution_count": 7,
   "metadata": {},
   "outputs": [],
   "source": [
    "tbl.data_rng = 'E12:I17'"
   ]
  },
  {
   "cell_type": "code",
   "execution_count": 8,
   "metadata": {},
   "outputs": [],
   "source": [
    "values = {\n",
    "    'I13': '=F13+F15',\n",
    "    'I14': '=I13+5',\n",
    "    'I15': '=I14+10',\n",
    "}\n",
    "tbl.set_records(values, field='fml')"
   ]
  },
  {
   "cell_type": "code",
   "execution_count": 10,
   "metadata": {},
   "outputs": [],
   "source": [
    "values = {\n",
    "    'I13': '=1000+I15',\n",
    "}\n",
    "tbl.set_records(values, field='fml')"
   ]
  },
  {
   "cell_type": "code",
   "execution_count": 9,
   "metadata": {},
   "outputs": [],
   "source": [
    "tbl.recalculate(recalc=True)"
   ]
  },
  {
   "cell_type": "code",
   "execution_count": null,
   "metadata": {},
   "outputs": [],
   "source": [
    "tbl"
   ]
  },
  {
   "cell_type": "code",
   "execution_count": null,
   "metadata": {},
   "outputs": [],
   "source": [
    "tbl.evaluate('=E13&\" \"&E16')"
   ]
  },
  {
   "cell_type": "code",
   "execution_count": null,
   "metadata": {},
   "outputs": [],
   "source": []
  },
  {
   "cell_type": "code",
   "execution_count": null,
   "metadata": {},
   "outputs": [],
   "source": [
    "def bb():\n",
    "    answer = [1,2,3,4]\n",
    "    return *answer\n"
   ]
  },
  {
   "cell_type": "code",
   "execution_count": 77,
   "metadata": {},
   "outputs": [],
   "source": [
    "dmy ='''tabla2:\t\t\t\n",
    "l1\t25\t100\t0\n",
    "l2\t10\t25\t35\n",
    "l3\t15\t38\t53\n",
    "l4\t80\t2438\t2518\n",
    "\t105\t2501\t2606'''"
   ]
  },
  {
   "cell_type": "code",
   "execution_count": 52,
   "metadata": {},
   "outputs": [],
   "source": [
    "dmy= '''\n",
    "tabla 1:\t\t\t\n",
    "l1\t700\t250\t950\n",
    "l2\t1200\t230\t1430\n",
    "l3\t340\t100\t440\n",
    "l4\t128\t85\t213\n",
    "l5\t45\t18\t63\n",
    "\t2413\t683\t3096\n",
    "'''"
   ]
  },
  {
   "cell_type": "code",
   "execution_count": 13,
   "metadata": {},
   "outputs": [],
   "source": [
    "lst = [x.split('\\t') for x in dmy.split('\\n')] "
   ]
  },
  {
   "cell_type": "code",
   "execution_count": null,
   "metadata": {},
   "outputs": [],
   "source": [
    "pd.DataFrame(lst)"
   ]
  },
  {
   "cell_type": "code",
   "execution_count": 50,
   "metadata": {},
   "outputs": [],
   "source": [
    "def excel_df(tbl_str, row_ini, col_ini):\n",
    "    lst = [x.split('\\t') for x in tbl_str.strip().split('\\n')]\n",
    "    ndx1, ndx2 = int(row_ini), int(row_ini) + len(lst)                 #map(int, row_rng.split(':'))\n",
    "    col1, col2 = ord(col_ini), ord(col_ini) + len(lst[0])                            #map(ord, col_rng.split(':'))\n",
    "    df = (\n",
    "        pd.DataFrame(lst, index=pd.RangeIndex(ndx1, ndx2), columns=[chr(x) for x in range(col1, col2)])\n",
    "        .unstack()\n",
    "        .to_frame()\n",
    "        .rename(columns={0:'value'})\n",
    "        .assign(cell=lambda db: db.index.map(lambda x: x[0] + str(x[1])))\n",
    "        .set_index('cell')\n",
    "    )\n",
    "    return df.value"
   ]
  },
  {
   "cell_type": "code",
   "execution_count": 82,
   "metadata": {},
   "outputs": [],
   "source": [
    "base = excel_df(dmy, '12', 'E')"
   ]
  },
  {
   "cell_type": "code",
   "execution_count": 127,
   "metadata": {},
   "outputs": [],
   "source": [
    "snew = '''tabla2:\t0\t20\t30\n",
    "l1\t25\t100\t0\n",
    "l2\t10\t25\t35\n",
    "l3\t15\t38\t53\n",
    "l4\t80\t2438\t2518\n",
    "\t105\t2501\t2606\n",
    "'''"
   ]
  },
  {
   "cell_type": "code",
   "execution_count": 128,
   "metadata": {},
   "outputs": [],
   "source": [
    "vnew = excel_df(snew, '12', 'E')"
   ]
  },
  {
   "cell_type": "code",
   "execution_count": null,
   "metadata": {},
   "outputs": [],
   "source": [
    "mask = vnew != base\n",
    "str(vnew[mask].to_dict()).replace('\\n', '')"
   ]
  },
  {
   "cell_type": "code",
   "execution_count": 106,
   "metadata": {},
   "outputs": [],
   "source": [
    "code = '''{'F13': '3',\n",
    " 'G14': '41',\n",
    " 'G16': '2416',\n",
    " 'G17': '2495',\n",
    " 'H14': '51',\n",
    " 'H16': '2496',\n",
    " 'H17': '2600'}'''"
   ]
  },
  {
   "cell_type": "code",
   "execution_count": null,
   "metadata": {},
   "outputs": [],
   "source": [
    "code.replace('\\n', '')"
   ]
  },
  {
   "cell_type": "code",
   "execution_count": null,
   "metadata": {},
   "outputs": [],
   "source": [
    "linf, lsup, cell"
   ]
  },
  {
   "cell_type": "code",
   "execution_count": null,
   "metadata": {},
   "outputs": [],
   "source": [
    "linf <= cell <= lsup"
   ]
  }
 ],
 "metadata": {
  "kernelspec": {
   "display_name": "excel-vZ5sKczD-py3.10",
   "language": "python",
   "name": "python3"
  },
  "language_info": {
   "codemirror_mode": {
    "name": "ipython",
    "version": 3
   },
   "file_extension": ".py",
   "mimetype": "text/x-python",
   "name": "python",
   "nbconvert_exporter": "python",
   "pygments_lexer": "ipython3",
   "version": "3.10.11"
  }
 },
 "nbformat": 4,
 "nbformat_minor": 2
}
